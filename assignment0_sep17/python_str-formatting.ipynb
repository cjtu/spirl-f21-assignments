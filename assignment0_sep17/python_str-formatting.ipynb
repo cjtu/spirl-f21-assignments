{
 "cells": [
  {
   "cell_type": "markdown",
   "source": [
    "# String Formatting (Interactive)\r\n",
    "\r\n",
    "This is an interactive tutorial. You can click the rocket -> binder link at the top of this page to interact with the code and outputs below.\r\n",
    "\r\n",
    "## Why Format\r\n",
    "\r\n",
    "Often string formatting is used to truncate part of a string or round floating point numbers to a desired precision. All of the techniques below use a special shorthand for specifying the formatting desired.\r\n",
    "\r\n",
    "For example:\r\n",
    "\r\n",
    "To round pi to 4 decimal points, we would use the float formatter, `f` and specify `.4` decimal places. This will round to the number of decimal places specified.\r\n",
    "\r\n"
   ],
   "metadata": {}
  },
  {
   "cell_type": "code",
   "execution_count": 1,
   "source": [
    "pi = 3.14159265\r\n",
    "print(\"Pi is %.4f\" % pi)"
   ],
   "outputs": [
    {
     "output_type": "stream",
     "name": "stdout",
     "text": [
      "Pi is 3.1416\n"
     ]
    }
   ],
   "metadata": {
    "tags": []
   }
  },
  {
   "cell_type": "markdown",
   "source": [
    "To specify a certain number of characters width, you can also put a number before the decimal point in the format code.\r\n",
    "\r\n",
    "For example:\r\n",
    "\r\n",
    "To print the following lines as 10 characters each, we would specify `%10.f` as the format code and Python will automatically add spaced in front to make the output 10 characters long:"
   ],
   "metadata": {}
  },
  {
   "cell_type": "code",
   "execution_count": 2,
   "source": [
    "print(\"%10.f\" % 1)\r\n",
    "print(\"%10.f\" % 10)\r\n",
    "print(\"%10.f\" % 100)\r\n",
    "print(\"%10.f\" % 1000)\r\n",
    "print(\"%10.f\" % 10000)"
   ],
   "outputs": [
    {
     "output_type": "stream",
     "name": "stdout",
     "text": [
      "         1\n",
      "        10\n",
      "       100\n",
      "      1000\n",
      "     10000\n"
     ]
    }
   ],
   "metadata": {
    "tags": []
   }
  },
  {
   "cell_type": "markdown",
   "source": [
    "## Three types of string formatting\r\n",
    "\r\n",
    "Python allows you to specify how to format strings in 3 ways:\r\n",
    "\r\n",
    "* The Old school (% operator): `\" \"%()`\r\n",
    "* The `.format()` method: `\" \".format()`\r\n",
    "* With an f-string (Python version > 3.6 only): `f\" \"`\r\n",
    "\r\n",
    "Useful sites:\r\n",
    "\r\n",
    "- Python string docs [link](https://docs.python.org/3/library/string.html)\r\n",
    "- Using % and .format(): [link](https://pyformat.info)\r\n",
    "- Python f-strings [link](http://zetcode.com/python/fstring/)"
   ],
   "metadata": {}
  },
  {
   "cell_type": "markdown",
   "source": [
    "## Old school (%)\r\n",
    "\r\n",
    "Below we use the `%` operator after the string to include the three elements into the three locations denoted by `%` within the string.\r\n",
    "\r\n",
    "We use three different format codes for the three numbers included in the string:\r\n",
    "\r\n",
    "- The integer format code `d`\r\n",
    "- The float format code rounding to a whole number `.0f` \r\n",
    "- The float format code rounding to 2 decimal places `.2f`.\r\n",
    "\r\n",
    "Note: To print a regular %, you need to type two %% in a row when using the `%` operator."
   ],
   "metadata": {}
  },
  {
   "cell_type": "code",
   "execution_count": 3,
   "source": [
    "discount = 30  # %\r\n",
    "price = 499.99\r\n",
    "new_price = price * (1-discount/100)\r\n",
    "\r\n",
    "print(\"SALE: Get %d%% off the new PS5 and pay $%.0f instead of $%.2f.\" % \r\n",
    "      (discount, new_price, price))"
   ],
   "outputs": [
    {
     "output_type": "stream",
     "name": "stdout",
     "text": [
      "SALE: Get 30% off the new PS5 and pay $350 instead of $499.99.\n"
     ]
    }
   ],
   "metadata": {
    "tags": []
   }
  },
  {
   "cell_type": "markdown",
   "source": [
    "## Format method (.format())\r\n",
    "\r\n",
    "The format method inserts each element in the parentheses of `.format()`, into the brackets in the string. The same format codes used above are included after the colon in each set of brackets `\"{:fmt}\"`."
   ],
   "metadata": {}
  },
  {
   "cell_type": "code",
   "execution_count": 4,
   "source": [
    "print(\"SALE: Get {:d}% off the new PS5 and pay ${:.0f} instead of ${:.2f}.\"\r\n",
    "      .format(discount, new_price, price))"
   ],
   "outputs": [
    {
     "output_type": "stream",
     "name": "stdout",
     "text": [
      "SALE: Get 30% off the new PS5 and pay $350 instead of $499.99.\n"
     ]
    }
   ],
   "metadata": {
    "tags": []
   }
  },
  {
   "cell_type": "markdown",
   "source": [
    "## F-string (f'')\r\n",
    "\r\n",
    "The f-string allows us to include the element in place in the string instead of in a list at the end. This can make it easier to read which values are being inserted into which parts of the string. The syntax is `{value:fmt}` with the value being specified before the colon and the format code after the colon in the `{}` brackets."
   ],
   "metadata": {}
  },
  {
   "cell_type": "code",
   "execution_count": 5,
   "source": [
    "print(f\"SALE: Get {discount:d}% off the new PS5 and pay ${new_price:.0f} instead of ${price:.2f}.\")"
   ],
   "outputs": [
    {
     "output_type": "stream",
     "name": "stdout",
     "text": [
      "SALE: Get 30% off the new PS5 and pay $350 instead of $499.99.\n"
     ]
    }
   ],
   "metadata": {
    "tags": []
   }
  },
  {
   "cell_type": "markdown",
   "source": [
    "## String formatting with loop\r\n",
    "\r\n",
    "We can loop through the following two lists of values and print each pair with a format string."
   ],
   "metadata": {}
  },
  {
   "cell_type": "code",
   "execution_count": 6,
   "source": [
    "month   = ['Jan', 'Feb', 'Mar', 'Apr', 'May', 'Jun']\r\n",
    "balance = [-10.45,  50.99,  0.99,  -5.76,  100.57, -78.22]\r\n",
    "\r\n",
    "print('Monthly Balance')\r\n",
    "for mo, bal in zip(month, balance):\r\n",
    "    print(f'We have ${bal:.2f} left in {mo}.')"
   ],
   "outputs": [
    {
     "output_type": "stream",
     "name": "stdout",
     "text": [
      "Monthly Balance\n",
      "We have $-10.45 left in Jan.\n",
      "We have $50.99 left in Feb.\n",
      "We have $0.99 left in Mar.\n",
      "We have $-5.76 left in Apr.\n",
      "We have $100.57 left in May.\n",
      "We have $-78.22 left in Jun.\n"
     ]
    }
   ],
   "metadata": {
    "tags": []
   }
  },
  {
   "cell_type": "markdown",
   "source": [
    "This looks a little messy. We can clean up our output by:\r\n",
    "\r\n",
    "- Specifying the width of the number field. Since the longest output is 6 characters, we can use the code `6.2f` to have Python pad all of the numbers to 6 characters long\r\n",
    "- We can also make a 30-character underline with the `-^30` short hand."
   ],
   "metadata": {}
  },
  {
   "cell_type": "code",
   "execution_count": 7,
   "source": [
    "# Monthly Balance is centered on a 30 char line of ---\r\n",
    "print('{:-^30}'.format('Monthly Balance'))\r\n",
    "\r\n",
    "for mo, bal in zip(month, balance):\r\n",
    "    print(f'We have $ {bal:6.2f} left in {mo}.')\r\n",
    "\r\n",
    "# Here we can make a 30 char line of ===\r\n",
    "print(f'{\"\":=^30}')\r\n",
    "print('Total balance for the first {} months was $ {:.2f}'.format(len(month), sum(balance)))\r\n"
   ],
   "outputs": [
    {
     "output_type": "stream",
     "name": "stdout",
     "text": [
      "-------Monthly Balance--------\n",
      "We have $ -10.45 left in Jan.\n",
      "We have $  50.99 left in Feb.\n",
      "We have $   0.99 left in Mar.\n",
      "We have $  -5.76 left in Apr.\n",
      "We have $ 100.57 left in May.\n",
      "We have $ -78.22 left in Jun.\n",
      "==============================\n",
      "Total balance for the first 6 months was $ 58.12\n"
     ]
    }
   ],
   "metadata": {
    "tags": []
   }
  },
  {
   "cell_type": "markdown",
   "source": [
    "## Practice: multiplication table\r\n",
    "\r\n",
    "Try to exactly reproduce the table below by using a loop, print statements and string format codes.\r\n",
    "\r\n",
    "Note: Pay attention to spacing, zeros in front of the single digit numbers, and the horizontal and vertical lines\r\n",
    "\r\n",
    "```{code-block}\r\n",
    "01  |02  03  04  05  06  07  08  09  \r\n",
    "------------------------------------\r\n",
    "02  |04  06  08  10  12  14  16  18  \r\n",
    "03  |06  09  12  15  18  21  24  27  \r\n",
    "04  |08  12  16  20  24  28  32  36  \r\n",
    "05  |10  15  20  25  30  35  40  45  \r\n",
    "06  |12  18  24  30  36  42  48  54  \r\n",
    "07  |14  21  28  35  42  49  56  63  \r\n",
    "08  |16  24  32  40  48  56  64  72  \r\n",
    "09  |18  27  36  45  54  63  72  81  \r\n",
    "```"
   ],
   "metadata": {}
  },
  {
   "cell_type": "markdown",
   "source": [
    "```{admonition} Click the button to reveal ONE of the answers!\r\n",
    ":class: dropdown\r\n",
    "\r\n",
    "```{code-block} python\r\n",
    "import numpy as np\r\n",
    "for i in range(1,10):\r\n",
    "    j = np.arange(1,10)\r\n",
    "\r\n",
    "    for idx, ans in enumerate(i*j):\r\n",
    "        if idx!=8:\r\n",
    "            print(f'{ans:02d}  ', end='')\r\n",
    "        else:\r\n",
    "            print(f'{ans:02d}  ')\r\n",
    "    \r\n",
    "        if idx==0:\r\n",
    "            print('|', end='')\r\n",
    "            \r\n",
    "    if i == 1:\r\n",
    "        print('{}'.format('-'*(4*9)) )\r\n",
    "```\r\n",
    "```"
   ],
   "metadata": {}
  },
  {
   "cell_type": "code",
   "execution_count": 8,
   "source": [
    "# Create your multiplication table here!\r\n",
    "\r\n"
   ],
   "outputs": [],
   "metadata": {}
  }
 ],
 "metadata": {
  "kernelspec": {
   "name": "python3",
   "display_name": "Python 3.7.2 64-bit"
  },
  "language_info": {
   "codemirror_mode": {
    "name": "ipython",
    "version": 3
   },
   "file_extension": ".py",
   "mimetype": "text/x-python",
   "name": "python",
   "nbconvert_exporter": "python",
   "pygments_lexer": "ipython3",
   "version": "3.7.2"
  },
  "interpreter": {
   "hash": "6d554fa563bfd659317e0eba523a08ef6f418288653ff03eec0a2dab63bd78c5"
  }
 },
 "nbformat": 4,
 "nbformat_minor": 4
}
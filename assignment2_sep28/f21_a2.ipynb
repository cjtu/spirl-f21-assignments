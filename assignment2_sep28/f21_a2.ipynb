{
    "cells": [
        {
            "cell_type": "markdown",
            "source": [
                "# SPIRL Fall 2021 Course -- Week 2 (Sep 28)\n",
                "\n",
                "Today's topic will include:\n",
                "1. The use of dictionary (`dict`)\n",
                "2. The use of `for` loop \n",
                "3. Advance plotting using `Axes`\n",
                "4. Quick and easy polynomial fitting using `np.polyfit`\n",
                "\n",
                "## Readings (optional)\n",
                "\n",
                "If you find this week's material new or challenging, you may want to read through some or all the following SPIRL chapters before turning in your assignment:\n",
                "\n",
                "- [Ch. 3.7 Loops](https://cjtu.github.io/spirl/python_loops.html#loops)\n",
                "- [Ch. 3.8.4 Dictionary (dict)](https://cjtu.github.io/spirl/python_adv-types.html?highlight=dictionary#dictionary-dict)\n",
                "\n",
                "September 28, 2021\\\n",
                "Instructor: Shih-Yun Tang"
            ],
            "metadata": {}
        },
        {
            "cell_type": "markdown",
            "source": [
                "## Application of disctionatry, `dict`\n",
                "\n",
                "In week 1, we talked about passing the `g` value into the `free_fall_h_grav` function so one can get the free fall distance under different objects orbiting around the Sun.\n",
                "However, a better way for complishing this might be let the user to pass the name of the objects instead of the `g` value.\n",
                "In this section, we will use the dictionary (`dict` or in the form of `{}`) to do the job.\n"
            ],
            "metadata": {}
        },
        {
            "cell_type": "code",
            "execution_count": null,
            "source": [
                "\n",
                "# --------------- keys ---- values -------\n",
                "object_g_dict = {'mercury': 3.61,\n",
                "                 'venus'  : 8.83,\n",
                "                 'earth'  : 9.80665,\n",
                "                 'mars'   : 3.75,\n",
                "                 'jupiter': 26.0,\n",
                "                 'saturn' : 11.2,\n",
                "                 'uranus' : 10.5,\n",
                "                 'neptune': 13.3,\n",
                "                 'pluto'  : 0.61 \n",
                "                 }"
            ],
            "outputs": [],
            "metadata": {}
        },
        {
            "cell_type": "code",
            "execution_count": null,
            "source": [
                "# accessing the \"value\" by passing the \"key\"\n",
                "object_n = 'mars'\n",
                "\n",
                "print( object_g_dict[object_n] )"
            ],
            "outputs": [],
            "metadata": {}
        },
        {
            "cell_type": "code",
            "execution_count": null,
            "source": [
                "# you can acessing the keys/values by\n",
                "object_g_dict.keys()\n",
                "\n",
                "object_g_dict.values()\n"
            ],
            "outputs": [],
            "metadata": {}
        },
        {
            "cell_type": "code",
            "execution_count": null,
            "source": [
                "# and use `list` function to transfer it into a list object\n",
                "object_name = list(object_g_dict.keys())"
            ],
            "outputs": [],
            "metadata": {}
        },
        {
            "cell_type": "markdown",
            "source": [
                "## string in python is case sensitive\n",
                "\n",
                "To make sure you nenver run into issue with upper vs lower case, passing your string all in lower case if a good practive."
            ],
            "metadata": {}
        },
        {
            "cell_type": "code",
            "execution_count": null,
            "source": [
                "object_name_input = 'Mars'\n",
                "\n",
                "print( object_name_input.lower() )"
            ],
            "outputs": [],
            "metadata": {}
        },
        {
            "cell_type": "markdown",
            "source": [
                "## [Adance Move] make your dictionary from two list using `dict` and `zip`\n",
                "\n",
                "If you already have two lists and they both have the same length, you can use `dict` + `zip` to help you build up the list fatser."
            ],
            "metadata": {}
        },
        {
            "cell_type": "code",
            "execution_count": null,
            "source": [
                "\n",
                "object_name = ['mercury', 'venus', 'earth', 'mars', 'jupiter', 'saturn', 'uranus', 'neptune', 'pluto']\n",
                "object_g    = [3.61, 8.83, 9.80665, 3.75, 26.0, 11.2, 10.5, 13.3, 0.61]\n",
                "\n",
                "\n",
                "list(zip(object_name, object_g))\n"
            ],
            "outputs": [],
            "metadata": {}
        },
        {
            "cell_type": "code",
            "execution_count": null,
            "source": [
                "object_g_dict = dict(zip(object_name, object_g))\n",
                "object_g_dict.keys()"
            ],
            "outputs": [],
            "metadata": {}
        },
        {
            "cell_type": "markdown",
            "source": [
                "Now, we can rewrite the function to take in the object (planet) names instead of the `g` values!"
            ],
            "metadata": {}
        },
        {
            "cell_type": "code",
            "execution_count": null,
            "source": [
                "def free_fall_on_SS_objects(t, object_n = 'mars'):\n",
                "    \"\"\"Free fall distance given time t on Earth.\n",
                "\n",
                "    Args:\n",
                "        t (float or np.array): \n",
                "            Time in [s]\n",
                "        object_n (str, optional): \n",
                "            object name you wish to calculate for the free-fall height. \n",
                "            Defaults to 'mars'.\n",
                "\n",
                "    Returns:\n",
                "        [float or np.array]: Free fall distance in [m]\n",
                "    \"\"\"\n",
                "     \n",
                "    object_n = object_n.lower()    # transfer all to lower cases\n",
                "    g = object_g_dict[object_n]    # get g values [m/s]\n",
                "    \n",
                "    H = 0.5 * g * t**2\n",
                "    \n",
                "    return H\n"
            ],
            "outputs": [],
            "metadata": {}
        },
        {
            "cell_type": "markdown",
            "source": [
                "## The uss of `for` loops\n",
                "\n",
                "See more on [Ch. 3.7 Loops](https://cjtu.github.io/spirl/python_loops.html#loops)"
            ],
            "metadata": {}
        },
        {
            "cell_type": "code",
            "execution_count": null,
            "source": [
                "# for loop basic \n",
                "\n",
                "loop_range = [1, 3, 5, 7, 9]\n",
                "loop_range = list(range(1, 10, 2))\n",
                "\n",
                "for i in range(1, 10, 2):\n",
                "    \n",
                "    print(i)"
            ],
            "outputs": [],
            "metadata": {}
        },
        {
            "cell_type": "code",
            "execution_count": null,
            "source": [
                "object_name = list( object_g_dict.keys() )\n",
                "\n",
                "for tar_name in object_name:\n",
                "    \n",
                "    y = free_fall_on_SS_objects(x, tar_name) # get free-fall distance\n",
                "    g = object_g_dict[tar_name]              # get the g value for each object_name objects\n",
                "    \n",
                "    temp_str = f'The g value for {tar_name:>8} is about {g:5.2f} m/s/s'\n",
                "    print( temp_str )"
            ],
            "outputs": [],
            "metadata": {}
        },
        {
            "cell_type": "markdown",
            "source": [
                "## Advance plotting with `axes`\n",
                "\n",
                "[matplotlib color palette sheet](https://matplotlib.org/stable/gallery/color/named_colors.html#sphx-glr-gallery-color-named-colors-py)"
            ],
            "metadata": {}
        },
        {
            "cell_type": "code",
            "execution_count": null,
            "source": [
                "import numpy as np\n",
                "import matplotlib.pyplot as plt"
            ],
            "outputs": [],
            "metadata": {}
        },
        {
            "cell_type": "code",
            "execution_count": null,
            "source": [
                "# make the master frame\n",
                "f = plt.figure(facecolor='tab:green', figsize=(5,3), dpi=150)\n",
                "\n",
                "# add in subplot frames\n",
                "ax1 = plt.subplot(121, facecolor='tab:red')\n",
                "ax2 = plt.subplot(122, facecolor='tab:blue')\n",
                "\n",
                "_x = np.linspace(0, 100, 1000)\n",
                "# plotting on difference frames\n",
                "ax1.plot(_x, _x**2, lw=2, color='k')\n",
                "ax1.set_xlabel('x')\n",
                "ax1.set_ylabel('x$^2$')\n",
                "\n",
                "ax2.plot(_x, -_x**2, lw=2, color='k')\n",
                "ax2.set_xlabel('x')\n",
                "ax2.set_ylabel('$-x^2$')"
            ],
            "outputs": [],
            "metadata": {}
        },
        {
            "cell_type": "code",
            "execution_count": null,
            "source": [
                "x = np.arange(0, 100, 5) # falling time [s]\n",
                "\n",
                "# --- plotting setup ----\n",
                "f = plt.figure(facecolor='white', figsize=(4,3), dpi=250 )\n",
                "ax1 = plt.subplot(111)\n",
                "\n",
                "\n",
                "# --- plotting all free-fall curves for SS objects (planets) ----\n",
                "for tar_name in object_name:\n",
                "    \n",
                "    y = free_fall_on_SS_objects(x, tar_name)\n",
                "    g = object_g_dict[tar_name]\n",
                "    \n",
                "    ax1.plot(x, y/1e3, '-', lw=1, label = f'g={g:05.2f} ({tar_name})')\n",
                "    \n",
                "\n",
                "# --- plotting adjustments ---   \n",
                "ax1.tick_params(axis='both', which ='both', labelsize='small', right=True, top=True, direction='in')   \n",
                "ax1.set_xlabel('Time [sec]',    size='medium', style='normal', family='sans-serif', fontname='Helvetica')\n",
                "ax1.set_ylabel('Distance [km]', size='medium', style='normal', family='sans-serif', fontname='Helvetica')\n",
                "ax1.legend(fontsize=6, ncol = 2)"
            ],
            "outputs": [],
            "metadata": {}
        },
        {
            "cell_type": "markdown",
            "source": [
                "## Quick and easy polynomical fitting using `np.ployfit`"
            ],
            "metadata": {}
        },
        {
            "cell_type": "code",
            "execution_count": null,
            "source": [
                "help( np.polyfit )"
            ],
            "outputs": [],
            "metadata": {}
        },
        {
            "cell_type": "code",
            "execution_count": null,
            "source": [
                "x = np.array([  0.   ,   3.448,   6.897,  10.345,  13.793,  17.241,  20.69 ,\n",
                "                24.138,  27.586,  31.034,  34.483,  37.931,  41.379,  44.828,\n",
                "                48.276,  51.724,  55.172,  58.621,  62.069,  65.517,  68.966,\n",
                "                72.414,  75.862,  79.31 ,  82.759,  86.207,  89.655,  93.103,\n",
                "                96.552, 100.   ])\n",
                "y = np.array([  3.403,  12.761,  22.422,  34.   ,  43.701,  58.525,  67.867,\n",
                "                71.998,  87.14 ,  86.822, 130.066,  79.842, 104.269, 119.987,\n",
                "                153.925,  86.582, 273.286, 119.237, 211.643, 270.858, 313.429,\n",
                "                253.465, 375.543,  65.478, 353.615, 346.736, 434.706, 343.462,\n",
                "                358.991, 477.203])\n",
                "y_err = np.array([  0.3  ,   1.334,   2.369,   3.403,   4.438,   5.472,   6.507,\n",
                "                    7.541,   8.576,   9.61 ,  35.483,  38.931,  42.379,  45.828,\n",
                "                    49.276,  52.724,  56.172,  59.621,  63.069,  66.517, 104.948,\n",
                "                    110.121, 115.293, 120.466, 125.638, 130.81 , 135.983, 141.155,\n",
                "                    146.328, 151.5  ])\n"
            ],
            "outputs": [],
            "metadata": {}
        },
        {
            "cell_type": "code",
            "execution_count": null,
            "source": [
                "f = plt.figure(facecolor='white', figsize=(4,3), dpi=200 )\n",
                "ax1 = plt.subplot(111)\n",
                "\n",
                "ax1.errorbar(x, y, \n",
                "             yerr = y_err, fmt = '.', ms=5, lw=0.5)\n",
                "      \n",
                "ax1.tick_params(axis='both', which ='both', labelsize='small', right=True, top=True, direction='in')   \n",
                "ax1.set_xlabel('x',    size='medium', style='normal', family='sans-serif', fontname='Helvetica')\n",
                "ax1.set_ylabel('y', size='medium', style='normal', family='sans-serif', fontname='Helvetica')"
            ],
            "outputs": [],
            "metadata": {}
        },
        {
            "cell_type": "code",
            "execution_count": null,
            "source": [
                "\n",
                "# ------------ x-axis -- y-axis -- fit with nth order --\n",
                "z = np.polyfit( x,        y,        1)\n",
                "\n",
                "print( z )"
            ],
            "outputs": [],
            "metadata": {}
        },
        {
            "cell_type": "code",
            "execution_count": null,
            "source": [
                "print(f'y = {z[0]:1.2f}x + {z[1]:1.2f}')"
            ],
            "outputs": [],
            "metadata": {}
        },
        {
            "cell_type": "markdown",
            "source": [
                "# Then you can use `np.poly1d` to take in the coeffition and generate a function"
            ],
            "metadata": {}
        },
        {
            "cell_type": "code",
            "execution_count": null,
            "source": [
                "# --- plotting setup ----\n",
                "f = plt.figure(facecolor='white', figsize=(4,3), dpi=200 )\n",
                "ax1 = plt.subplot(111)\n",
                "\n",
                "# --- plot the data with error ----\n",
                "ax1.errorbar(x, y, \n",
                "             yerr = y_err, fmt = '.', ms=5, lw=0.5)\n",
                "\n",
                "# --- fitting ---\n",
                "coef = np.polyfit(x, y, 1)\n",
                "f1 = np.poly1d(coef)\n",
                "\n",
                "# --- plot the fitted line ---\n",
                "ax1.plot(x, f1(x), '-', lw=1)\n",
                "    \n",
                "# --- plotting adjustments ---   \n",
                "ax1.tick_params(axis='both', which ='both', labelsize='small', right=True, top=True, direction='in')   \n",
                "ax1.set_xlabel('x', size='medium', style='normal', family='sans-serif', fontname='Helvetica')\n",
                "ax1.set_ylabel('y', size='medium', style='normal', family='sans-serif', fontname='Helvetica')"
            ],
            "outputs": [],
            "metadata": {}
        },
        {
            "cell_type": "markdown",
            "source": [
                "## [Adcance Move] take in the error as weight while fitting"
            ],
            "metadata": {}
        },
        {
            "cell_type": "code",
            "execution_count": null,
            "source": [
                "# --- plotting setup ----\n",
                "f = plt.figure(facecolor='white', figsize=(4,3), dpi=250 )\n",
                "ax1 = plt.subplot(111)\n",
                "\n",
                "# --- plot the data with error ----\n",
                "ax1.errorbar(x, y, \n",
                "             yerr = y_err, fmt = '.', ms=5, lw=0.5, label = 'Data')\n",
                "\n",
                "# --- fitting ---\n",
                "coef1 = np.polyfit(x, y, 1)\n",
                "f1 = np.poly1d(coef1)\n",
                "\n",
                "# --- fitting with error as weight ---\n",
                "coef2 = np.polyfit(x, y, 1, w= 1/ y_err)\n",
                "f2 = np.poly1d(coef2)\n",
                "\n",
                "ax1.plot(x, f1(x), '-', lw=1, label = 'fitting w/o error considered')\n",
                "ax1.plot(x, f2(x), '-', lw=1, label = 'fitting w/  error considered')\n",
                "    \n",
                "    \n",
                "ax1.tick_params(axis='both', which ='both', labelsize='small', right=True, top=True, direction='in')   \n",
                "ax1.set_xlabel('x', size='medium', style='normal', family='sans-serif', fontname='Helvetica')\n",
                "ax1.set_ylabel('y', size='medium', style='normal', family='sans-serif', fontname='Helvetica')\n",
                "ax1.legend(fontsize = 'xx-small', loc = 'upper left')"
            ],
            "outputs": [],
            "metadata": {}
        },
        {
            "cell_type": "markdown",
            "source": [
                "## [Assignment] Guess which SS planet was the data been taken from!!\n",
                "\n",
                "Below are 30 data points taken from an unknown SS planets by measuring the free-fall time [s] verse the distance [m] on it.\n",
                "Each data of the falling distance is an average value from 10 different measurements and their standard deviation is given as error, fall_distance_err [m].\n",
                "\n",
                "1) Please use the `np.polyfit` we learn above to fit the data and obtain the `g` values so that you can guess wich SS planets you are on.\n",
                "2) Please make a plot showing the data, their error and also show the fitting result you get.\n",
                "\n",
                "Free-fall equation:\n",
                "$$\n",
                "H = \\frac{1}{2} g t^2\n",
                "$$\n"
            ],
            "metadata": {}
        },
        {
            "cell_type": "code",
            "execution_count": null,
            "source": [
                "\n",
                "time_steps = np.array([ 20.   ,  27.966,  35.931,  43.897,  51.862,  59.828,  67.793,\n",
                "                    75.759,  83.724,  91.69 ,  99.655, 107.621, 115.586, 123.552,\n",
                "                    131.517, 139.483, 147.448, 155.414, 163.379, 171.345, 179.31 ,\n",
                "                    187.276, 195.241, 203.207, 211.172, 219.138, 227.103, 235.069,\n",
                "                    243.034, 251.   ])\n",
                "\n",
                "fall_distance = np.array([  2798.322,   4543.523,   5459.432,  11554.559,  15958.431,\n",
                "                        20023.776,  19146.256,  22765.371,  47183.159,  47167.289,\n",
                "                        22978.494,  66253.599,  63625.642,  91050.12 , 116941.625,\n",
                "                        143460.073, 106462.323, 142584.887, 199564.683,  83593.839,\n",
                "                        158030.907, 205442.175, 206733.665, 241555.039, 236078.303,\n",
                "                        240508.665, 311193.102, 298704.903, 339502.307, 438338.605])\n",
                "\n",
                "fall_distance_err = np.array([  448.   ,   875.919,  1445.964,  2158.136,  3012.435,  4008.861,\n",
                "                            5147.413,  6428.093,  7850.899,  9415.832, 18538.153, 21620.131,\n",
                "                            24938.986, 28494.72 , 32287.332, 36316.821, 40583.189, 45086.435,\n",
                "                            49826.558, 54803.56 , 18005.232, 19640.459, 21346.75 , 23124.104,\n",
                "                            24972.521, 26892.002, 28882.547, 30944.154, 33076.825, 35280.56 ])"
            ],
            "outputs": [],
            "metadata": {}
        },
        {
            "cell_type": "code",
            "execution_count": null,
            "source": [],
            "outputs": [],
            "metadata": {}
        }
    ],
    "metadata": {
        "orig_nbformat": 4,
        "language_info": {
            "name": "python",
            "version": "3.7.8",
            "mimetype": "text/x-python",
            "codemirror_mode": {
                "name": "ipython",
                "version": 3
            },
            "pygments_lexer": "ipython3",
            "nbconvert_exporter": "python",
            "file_extension": ".py"
        },
        "kernelspec": {
            "name": "python3",
            "display_name": "Python 3.7.8 64-bit ('base': conda)"
        },
        "interpreter": {
            "hash": "cb7cd84ea3cdf3ac0fe189395fa0b358ecca3de13b72fe17f3c14c2a97e9bf55"
        }
    },
    "nbformat": 4,
    "nbformat_minor": 2
}
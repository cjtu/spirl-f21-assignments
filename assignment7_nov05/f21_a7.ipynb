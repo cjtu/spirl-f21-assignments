{
 "cells": [
  {
   "cell_type": "markdown",
   "metadata": {},
   "source": [
    "# Assignment 7 (Nov 2)\n",
    "\n",
    "Today's topics are:\n",
    "\n",
    "1. Efficiency\n",
    "2. Timing code\n",
    "3. Using vectorized functions/methods\n",
    "4. Easy parallelization with Numba\n",
    "\n",
    "## Readings (optional)\n",
    "\n",
    "If you find this week's material new or challenging, you may want to read through some or all the following resources while working on your assignment:\n",
    "\n"
   ]
  },
  {
   "cell_type": "code",
   "execution_count": 12,
   "metadata": {},
   "outputs": [],
   "source": [
    "import numpy as np\n",
    "import matplotlib.pyplot as plt\n",
    "plt.style.use('seaborn')"
   ]
  },
  {
   "cell_type": "markdown",
   "metadata": {},
   "source": [
    "## Efficiency\n",
    "\n",
    "Now that we've learned several workflows in Python, some of which can take a long time (Monte Carlo methods and MCMC), we are going to talk about:\n",
    "\n",
    "- how to time your code\n",
    "- how to estimate how long your code will take (and when you can't)\n",
    "- how to use vectorization to avoid slow loops\n",
    "- how to use Numba to speed up slow loops\n",
    "\n",
    "\n",
    "### Timing code\n",
    "\n",
    "To understand how fast / efficient our code is, we will first need to learn how long our code takes to run.\n",
    "\n",
    "The most basic way to time code is using the built-in Python `time` module.\n",
    "\n",
    "The function `time.time()` gives us a timestamp from when it is called. This timstamp is a number in seconds with ~microsecond (6 decimal) precision on Linux / Mac.\n",
    "\n",
    "Note: The precision of `time` on Windows is actually closer to 0.01 seconds in practice, so be careful comparing very short time periods."
   ]
  },
  {
   "cell_type": "code",
   "execution_count": 13,
   "metadata": {},
   "outputs": [
    {
     "name": "stdout",
     "output_type": "stream",
     "text": [
      "Time to sort 1e+07 numbers: 1.229 s\n"
     ]
    }
   ],
   "source": [
    "import time\n",
    "\n",
    "n = 10000000\n",
    "time_start = time.time()\n",
    "x = np.random.rand(n)\n",
    "y = np.sort(x)\n",
    "time_end = time.time()\n",
    "\n",
    "time_delta = time_end - time_start\n",
    "print(f\"Time to sort {n:.0e} numbers: {time_delta:.3f} s\")"
   ]
  },
  {
   "cell_type": "markdown",
   "metadata": {},
   "source": [
    "Try re-running the above cell several times. \n",
    "\n",
    "You should notice that the timing for each run changes slightly. This can be due to:\n",
    "\n",
    "- How much work there is to do (e.g. since randomness is involved)\n",
    "- How many background tasks are running on your computer when you run the cell\n",
    "\n",
    "To get an accurate estimate of how long our code takes to run, as scientists we can run an experiment by:\n",
    "\n",
    "1.  Closing all background programs so only Python is running\n",
    "2.  Time our code chunk several times\n",
    "3.  Take the average and standard deviation of all of the runs"
   ]
  },
  {
   "cell_type": "code",
   "execution_count": 14,
   "metadata": {},
   "outputs": [
    {
     "name": "stdout",
     "output_type": "stream",
     "text": [
      "Run 0 Time to sort 1e+07 numbers: 1.187 s\n",
      "Run 1 Time to sort 1e+07 numbers: 1.103 s\n",
      "Run 2 Time to sort 1e+07 numbers: 1.117 s\n",
      "Run 3 Time to sort 1e+07 numbers: 1.140 s\n",
      "Run 4 Time to sort 1e+07 numbers: 1.142 s\n",
      "Run 5 Time to sort 1e+07 numbers: 1.114 s\n",
      "Run 6 Time to sort 1e+07 numbers: 1.116 s\n",
      "Run 7 Time to sort 1e+07 numbers: 1.103 s\n",
      "Run 8 Time to sort 1e+07 numbers: 1.103 s\n",
      "Run 9 Time to sort 1e+07 numbers: 1.128 s\n",
      "Avg time to sort 1e+07 numbers: 1.126 +/- 0.025 s (ntrials: 10)\n"
     ]
    }
   ],
   "source": [
    "n = 10000000\n",
    "timings = []\n",
    "\n",
    "for i in range(10):\n",
    "    time_start = time.time()\n",
    "    x = np.random.rand(n)\n",
    "    y = np.sort(x)\n",
    "    time_end = time.time()\n",
    "    time_delta = time_end - time_start\n",
    "    print(f\"Run {i} Time to sort {n:.0e} numbers: {time_delta:.3f} s\")\n",
    "    timings.append(time_delta)\n",
    "\n",
    "time_mean = np.mean(timings)\n",
    "time_std = np.std(timings)\n",
    "print(f\"Avg time to sort {n:.0e} numbers: {time_mean:.3f} +/- {time_std:.3f} s (ntrials: {len(timings)})\")"
   ]
  },
  {
   "cell_type": "markdown",
   "metadata": {},
   "source": [
    "Conveniently, the **IPython** framework that Jupyter runs on has some built-in functions for timing code. Called *IPython magics*, we can invoke them with `%` and the main ones we'll use are `time` and `timeit` (See all IPython magics [here](https://ipython.readthedocs.io/en/stable/interactive/magics.html))."
   ]
  },
  {
   "cell_type": "code",
   "execution_count": 15,
   "metadata": {},
   "outputs": [
    {
     "name": "stdout",
     "output_type": "stream",
     "text": [
      "CPU times: user 1.08 s, sys: 17 ms, total: 1.1 s\n",
      "Wall time: 1.12 s\n"
     ]
    }
   ],
   "source": [
    "%%time\n",
    "\n",
    "x = np.random.rand(n)\n",
    "y = np.sort(x)"
   ]
  },
  {
   "cell_type": "markdown",
   "metadata": {},
   "source": [
    "Here we get a dew outputs, but the one we care about is **Wall time** (the total time to runn the cell).\n",
    "\n",
    "While `%%time` will time an entire cell If we want to time a specific line of code, we can use `%time` instead:"
   ]
  },
  {
   "cell_type": "code",
   "execution_count": 16,
   "metadata": {},
   "outputs": [
    {
     "name": "stdout",
     "output_type": "stream",
     "text": [
      "CPU times: user 997 ms, sys: 10 ms, total: 1.01 s\n",
      "Wall time: 1.03 s\n"
     ]
    }
   ],
   "source": [
    "x = np.random.rand(n)\n",
    "%time y = np.sort(x)"
   ]
  },
  {
   "cell_type": "markdown",
   "metadata": {},
   "source": [
    "We saw above that we often want to run our code multiple times to get the average runtime. We can do this with the `%%timeit` magic."
   ]
  },
  {
   "cell_type": "code",
   "execution_count": 17,
   "metadata": {},
   "outputs": [
    {
     "name": "stdout",
     "output_type": "stream",
     "text": [
      "1.02 s ± 19.8 ms per loop (mean ± std. dev. of 7 runs, 1 loop each)\n"
     ]
    }
   ],
   "source": [
    "\n",
    "\n",
    "x = np.random.rand(n)\n",
    "%timeit y = np.sort(x)"
   ]
  },
  {
   "cell_type": "markdown",
   "metadata": {},
   "source": [
    "## Built-in vectorized methods\n",
    "\n",
    "Here we will use what we learned about timing code to investigate a few different ways of computing the maximum of a list / array. Our four options for computing the max are:\n",
    "\n",
    "1. Using a for loop\n",
    "2. Python built-in `max()` \n",
    "3. NumPy function `np.max()`\n",
    "4. NumPy array method `np.ndarray.max()`\n",
    "\n",
    "First let's set up an example array to pull the maximum from:"
   ]
  },
  {
   "cell_type": "code",
   "execution_count": 18,
   "metadata": {},
   "outputs": [],
   "source": [
    "arr = np.array([1, 7, 2, 9, 1, 2, 3, 0, 4, 8])"
   ]
  },
  {
   "cell_type": "markdown",
   "metadata": {},
   "source": [
    "Now let's show our 4 options of computing the max and make sure they work!"
   ]
  },
  {
   "cell_type": "code",
   "execution_count": 21,
   "metadata": {},
   "outputs": [
    {
     "name": "stdout",
     "output_type": "stream",
     "text": [
      "For loop: 9\n",
      "Python max(): 9\n",
      "NumPy np.max(): 9\n",
      "NumPy array.max(): 9\n"
     ]
    }
   ],
   "source": [
    "def max_loop(arr):\n",
    "    \"\"\"\n",
    "    Return the maximum value in an array.\n",
    "    \"\"\"\n",
    "    maxval = arr[0]\n",
    "    for val in arr:\n",
    "        if val > maxval:\n",
    "            maxval = val\n",
    "    return maxval\n",
    "\n",
    "# 1. For loop\n",
    "max1 = max_loop(arr)\n",
    "print(f\"For loop: {max1}\")\n",
    "\n",
    "# 2. Python max()\n",
    "max2 = max(arr)\n",
    "print(f\"Python max(): {max2}\")\n",
    "\n",
    "# 3. NumPy np.max()\n",
    "max3 = np.max(arr)\n",
    "print(f\"NumPy np.max(): {max3}\")\n",
    "\n",
    "# 4. NumPy array.max()\n",
    "max4 = arr.max()\n",
    "print(f\"NumPy array.max(): {max4}\")"
   ]
  },
  {
   "cell_type": "markdown",
   "metadata": {},
   "source": [
    "Now we have 4 ways of computing the maximum of an array, but we'll have to test on much longer arrays to start to see differences in speed. Let's use `np.random` to make a long random array.\n",
    "\n",
    "Let's also time our loop function with the `%%timeit` IPython magic (see [docs](https://ipython.readthedocs.io/en/stable/interactive/magics.html#magic-timeit)).\n",
    "\n",
    "Remember: `%%magic` is for a whole cell, `%magic` is when using inline."
   ]
  },
  {
   "cell_type": "code",
   "execution_count": 22,
   "metadata": {},
   "outputs": [
    {
     "name": "stdout",
     "output_type": "stream",
     "text": [
      "93.2 ms ± 1.9 ms per loop (mean ± std. dev. of 7 runs, 10 loops each)\n"
     ]
    }
   ],
   "source": [
    "%%timeit\n",
    "\n",
    "seed = 999  # Change for different random results\n",
    "rng = np.random.default_rng(seed)  # Init RNG\n",
    "ndraws = 1000000  # Number of random numbers to generate\n",
    "\n",
    "# Random array of length ndraws (values between 0 and 1)\n",
    "arr = rng.random(ndraws)\n",
    "\n",
    "max1 = max_loop(arr)"
   ]
  },
  {
   "cell_type": "markdown",
   "metadata": {},
   "source": [
    "Q: What is wrong with the above example?\n",
    "\n",
    "Hint: Recall we want to time the `max_loop` function only.\n",
    "\n",
    "A: What we're actually timing above is the entire cell, including making our random array. If we want a fair comparison between our max methods, we need to isolate only the work of each function.\n",
    "\n",
    "Let's use the inline `%timeit` to time our 4 max functions."
   ]
  },
  {
   "cell_type": "code",
   "execution_count": 24,
   "metadata": {},
   "outputs": [
    {
     "name": "stdout",
     "output_type": "stream",
     "text": [
      "1. For loop\n",
      "84.6 ms ± 561 µs per loop (mean ± std. dev. of 7 runs, 10 loops each)\n",
      "\n",
      "2. Python max()\n",
      "66.4 ms ± 365 µs per loop (mean ± std. dev. of 7 runs, 10 loops each)\n",
      "\n",
      "3. NumPy np.max()\n",
      "559 µs ± 5.85 µs per loop (mean ± std. dev. of 7 runs, 1000 loops each)\n",
      "\n",
      "4. NumPy array.max()\n",
      "557 µs ± 8.26 µs per loop (mean ± std. dev. of 7 runs, 1000 loops each)\n"
     ]
    }
   ],
   "source": [
    "# Compute this ahead of time so we don't time it\n",
    "seed = 999  # Change for different random results\n",
    "rng = np.random.default_rng(seed)  # Init RNG\n",
    "ndraws = 1000000  # Number of random numbers to generate\n",
    "\n",
    "# Random array of length ndraws (values between 0 and 1)\n",
    "arr = rng.random(ndraws)\n",
    "\n",
    "# Time our 4 different methods\n",
    "print('1. For loop')\n",
    "max1 = %timeit max_loop(arr)\n",
    "\n",
    "print('\\n2. Python max()')\n",
    "max2 = %timeit max(arr)\n",
    "\n",
    "print('\\n3. NumPy np.max()')\n",
    "max3 = %timeit np.max(arr)\n",
    "\n",
    "print('\\n4. NumPy array.max()')\n",
    "max4 = %timeit arr.max()"
   ]
  },
  {
   "cell_type": "markdown",
   "metadata": {},
   "source": [
    "Seems like we have our ranking!\n",
    "\n",
    "1. `np.array.max()` faster than `np.max()` but within errors\n",
    "2. Python `max()`\n",
    "3. for loop\n",
    "\n",
    "We should get the same ranking if we feed in a Python list `[]` rather than NumPy array right?\n",
    "\n",
    "Let's try it:"
   ]
  },
  {
   "cell_type": "code",
   "execution_count": 25,
   "metadata": {},
   "outputs": [
    {
     "name": "stdout",
     "output_type": "stream",
     "text": [
      "1. For loop\n",
      "45.3 ms ± 369 µs per loop (mean ± std. dev. of 7 runs, 10 loops each)\n",
      "\n",
      "2. Python max()\n",
      "26.6 ms ± 446 µs per loop (mean ± std. dev. of 7 runs, 10 loops each)\n",
      "\n",
      "3. NumPy np.max()\n",
      "54.1 ms ± 225 µs per loop (mean ± std. dev. of 7 runs, 10 loops each)\n",
      "\n",
      "4. NumPy array.max()\n",
      "54.1 ms ± 282 µs per loop (mean ± std. dev. of 7 runs, 10 loops each)\n"
     ]
    }
   ],
   "source": [
    "# Compute this ahead of time so we don't time it\n",
    "seed = 999  # Change for different random results\n",
    "rng = np.random.default_rng(seed)  # Init RNG\n",
    "ndraws = 1000000  # Number of random numbers to generate\n",
    "\n",
    "# Random array of length ndraws (values between 0 and 1)\n",
    "arr = rng.random(ndraws)\n",
    "lst = list(arr)\n",
    "\n",
    "# Time our 4 different methods\n",
    "print('1. For loop')\n",
    "max1 = %timeit max_loop(lst)\n",
    "\n",
    "print('\\n2. Python max()')\n",
    "max2 = %timeit max(lst)\n",
    "\n",
    "print('\\n3. NumPy np.max()')\n",
    "max3 = %timeit np.max(lst)\n",
    "\n",
    "print('\\n4. NumPy array.max()')\n",
    "max4 = %timeit np.array(lst).max()"
   ]
  },
  {
   "cell_type": "markdown",
   "metadata": {},
   "source": [
    "What happened here? It seems like the ranking switched:\n",
    "\n",
    "1. Python `max()`\n",
    "2. `np.max()` faster than `np.array.max()` but within errors\n",
    "3. for loop\n",
    "\n",
    "This brings up an interesting subtlety about coding in Python (and in general):\n",
    "\n",
    "**The data structure you choose can affect the efficiency of your program**\n",
    "\n",
    "Why is this happening? To find out, we'll notice 2 things about our timings.\n",
    "\n",
    "1. The `np.max` and `np.array.max()` methods were faster on NumPy arrays\n",
    "2. The built-in Python `max` method was faster on the Python list `[]`\n",
    "\n",
    "We could chalk this up to a platitude like, \n",
    "\n",
    "*\"Python `max()` is optimized for Python lists, while `np.max()` is optimized for NumPy arrays\"*. \n",
    "\n",
    "While this is partially true, if we understand the differences between lists and arrays, we can see there's a bit more going on here.\n",
    "\n",
    "| Python list | NumPy array |\n",
    "| - | - |\n",
    "| Can contain any object | Contains numerical data |\n",
    "| No fixed type (size) of elements | Fixed data type (size) of elements |\n",
    "| No `.max()` method | Has `.max()` method defined |\n",
    "\n",
    "Let's verify the data type of our NumPy array:"
   ]
  },
  {
   "cell_type": "code",
   "execution_count": 26,
   "metadata": {},
   "outputs": [
    {
     "data": {
      "text/plain": [
       "dtype('float64')"
      ]
     },
     "execution_count": 26,
     "metadata": {},
     "output_type": "execute_result"
    }
   ],
   "source": [
    "arr.dtype"
   ]
  },
  {
   "cell_type": "markdown",
   "metadata": {},
   "source": [
    "The fact that a NumPy array has a fixed data type and a defined length means that functions like `np.max()` can take advantage of super fast low-level algorithms (which run as compiled `C` code) to search, do math, comparisons, etc on our array.\n",
    "\n",
    "When a NumPy array is created, it blocks out a certain chunk of your computer's memory so that all future operations on the array are speedy! BUT this takes a bit of time to save time later.\n",
    "\n",
    "To find a maximum, all of our methods need to look at every element in the list/array, BUT NumPy is faster for 2 reasons:\n",
    "\n",
    "- it blocks off a place in memory \n",
    "- the max function can very quickly in **C**\n",
    "\n",
    "So why aren't the NumPy functions faster on lists as well?\n",
    "\n",
    "As you can see in the line `%timeit np.array(lst).max()`, the Python list had no `.max()` so we had to first *convert the data type* from list to NumPy array and then call `.max()`. This is also what is happening below the hood when we call `np.max(lst)` on a regular list.\n",
    "\n",
    "So the reason Python `max()` is slower on arrays is that NumPy has to block off memory and then convert the list to an array (which takes time), before running the speedier NumPy algorithm on it. Overall, converting to an array and then finding the max is slower than just finding the max (like Python does with `max()`).\n",
    "\n",
    "This leads us to our rules of thumb for efficient science code:\n",
    "\n",
    "## Efficiency pro tips\n",
    "\n",
    "1. Use the proper data structure for the job\n",
    "   - NumPy arrays are suited for numerical data\n",
    "   - Pandas DataFrames are suited for table data\n",
    "   - Python Lists are suited to non-numerical or mixed type data\n",
    "2. Use the optimized built-in functions\n",
    "   - Use NumPy's functions/methods on arrays\n",
    "   - Use the Pandas methods on DataFrames\n",
    "3. Avoid converting back and forth between data types\n",
    "   - Keep your numerical data in NumPy arrays wherever possible\n",
    "   - Keep your table data in DataFrames wherever possible\n",
    "   - If you need to compute values in a loop, initialize your arrays (e.g with `np.zeros`) before the loop\n",
    "4. Avoid custom Python loops wherever possible (see rule 2)"
   ]
  },
  {
   "cell_type": "markdown",
   "metadata": {},
   "source": [
    "## Time scaling\n",
    "\n",
    "The **scaling** behavior of our code describes how quickly it runs as the inputs get larger. Let's use our max situation again.\n",
    "\n",
    "There were 8 situations total:\n",
    "\n",
    "1. np.max(array) and np.max(list)\n",
    "2. array.max() and np.array(list).max()\n",
    "3. max(array) and max(list)\n",
    "4. max_loop(array) and max_loop(list)\n",
    "\n",
    "Let's look at the best from each category we identified before, so:\n",
    "\n",
    "1. np.max(array)\n",
    "2. array.max()\n",
    "3. max(list)\n",
    "4. max_loop(list)\n",
    "\n",
    "To investigate the scaling behavior, we will run the timing code with increasing `ndraws` (length of random array).\n",
    "\n",
    "**Note:** Most operations (like max) will take exponentially longer as the array size increases. For now, we will only show `ndraws = [10, 100, 1000]`, but will use parallel programming (multiprocessing) later to speed things up!"
   ]
  },
  {
   "cell_type": "code",
   "execution_count": 27,
   "metadata": {},
   "outputs": [
    {
     "name": "stdout",
     "output_type": "stream",
     "text": [
      "CPU times: user 5 µs, sys: 1 µs, total: 6 µs\n",
      "Wall time: 13.1 µs\n"
     ]
    }
   ],
   "source": [
    "%time\n",
    "\n",
    "seed = 999  # Change for different random results\n",
    "rng = np.random.default_rng(seed)  # Init RNG\n",
    "ndraws_list = [1, 10, 100, 1000]  # Number of random numbers to generate\n",
    "\n",
    "timings = np.zeros((len(ndraws_list), 4))\n",
    "for i, ndraws in enumerate(ndraws_list):\n",
    "    arr = rng.random(ndraws)\n",
    "    lst = list(arr)\n",
    "\n",
    "    t1 = %timeit -o -q max_loop(lst)\n",
    "    timings[i, 0] = t1.average\n",
    "    t2 = %timeit -o -q max(lst)\n",
    "    timings[i, 1] = t2.average\n",
    "    t3 = %timeit -o -q np.max(arr)\n",
    "    timings[i, 2] = t3.average\n",
    "    t4 = %timeit -o -q arr.max()\n",
    "    timings[i, 3] = t4.average"
   ]
  },
  {
   "cell_type": "code",
   "execution_count": 28,
   "metadata": {},
   "outputs": [
    {
     "data": {
      "image/png": "[encoded data removed]",
      "text/plain": [
       "<Figure size 576x432 with 1 Axes>"
      ]
     },
     "metadata": {},
     "output_type": "display_data"
    }
   ],
   "source": [
    "label_names = ['max_loop(lst)', 'max(lst)', 'np.max(arr)', 'arr.max()']\n",
    "\n",
    "# plot the data\n",
    "f = plt.figure(facecolor='white', figsize=(8, 6))\n",
    "ax = plt.subplot(111)\n",
    "\n",
    "for i, label in enumerate(label_names):\n",
    "    ax.plot(ndraws_list, timings[:, i], '.-', lw=.5, label=label)\n",
    "\n",
    "ax.set_xlabel('ndraws', fontname='Helvetica')\n",
    "ax.set_ylabel(r'run time [sec]', fontname='Helvetica')\n",
    "ax.set_xscale('log')\n",
    "ax.set_yscale('log')\n",
    "ax.legend()\n",
    "ax.text(0.45, 0.01, \"array = np.random(ndraws)\\nlist = list(array)\", ha='left', \n",
    "        va='bottom', transform=ax.transAxes, family='monospace')\n",
    "\n",
    "plt.show()"
   ]
  },
  {
   "cell_type": "markdown",
   "metadata": {},
   "source": [
    "## Parallel computing (multiprocessing)\n",
    "\n",
    "Every compute these days has several CPUs or *\"cores\"* which can each run several *\"threads\"* to do work / run code / render cat pictures at a time. By default, Python is *single-threaded* and can only use one thread / process at a time. \n",
    "\n",
    "Using the built-in `multiprocessing` library, or some packages that we'll introduce here, we will see how to run our code in *parallel* using multiple threads or processes at a time. This a deep topic, so we will only have time to introduce the concepts and will point you towards deeper tutorials with more info on parallel computing as we go along.\n",
    "\n",
    "Reading:\n",
    "* [A beginners guide to Multi-Processing in Python](https://www.analyticsvidhya.com/blog/2021/04/a-beginners-guide-to-multi-processing-in-python/)\n",
    "\n",
    "## PQDM\n",
    "\n",
    "One way of parallelizing our code is using the `pqdm` module (see docs at [Parallel TQDM (pqdm)](https://pqdm.readthedocs.io/en/latest/readme.html)), an extension of the `tqdm` module which lets us time our code with a cool progress bar.\n",
    "\n",
    "To get pqdm, activate your conda environment and run:\n",
    "\n",
    "`conda install -c conda-forge pqdm`\n",
    "\n",
    "It will come with the package, `tqdm` which means \"progress\" in Arabic ([see docs here](https://tqdm.github.io)).\n",
    "\n",
    "The main function of `tqdm` is to have a progress bar for your loops. Just wrap your loop iterable e.g. `tqdm(range(10))` and you'll see a progress bar with the average time to run each iteration and estimated total run time."
   ]
  },
  {
   "cell_type": "code",
   "execution_count": 15,
   "metadata": {},
   "outputs": [
    {
     "name": "stderr",
     "output_type": "stream",
     "text": [
      "100%|██████████| 10/10 [00:11<00:00,  1.10s/it]\n"
     ]
    }
   ],
   "source": [
    "from tqdm import tqdm\n",
    "import time\n",
    "\n",
    "for i in tqdm(range(10)):\n",
    "    # Choose random sleep time between 0 and 3 seconds\n",
    "    time.sleep(np.random.randint(0, 3))"
   ]
  },
  {
   "cell_type": "markdown",
   "metadata": {},
   "source": [
    "This is cool, but we really care about the parallel functionality provided by `pqdm`. To use it, we need to choose between *threads* and *processes* (if you don't know the difference, stick to *processes* for now!).\n",
    "\n",
    "- threads: `from pqdm.threads import pqdm`\n",
    "- processes: `from pqdm.processes import pqdm`\n",
    "\n",
    "The program we will parallelize is a function that computes the nth Fibonacci number.\n",
    "\n",
    "The Fibonacci sequence is defined as the sequence starting at 1, where each term is added to the previous one. E.g.\n",
    "\n",
    "`1, 1, 2, 3, 5, 8, 13, ...`\n",
    "\n",
    "To compute the nth Fibonacci number, we can use the following *recursive* function. A recursive function is one that calls itself. See more about recursion in this [Real Python video](https://www.youtube.com/watch?v=zbfRgC3kukk&ab_channel=RealPython).\n",
    "\n",
    "The important thing to note is that to compute the *nth* Fibonacci number, we also need the (n-1), (n-2), (n-3)... terms until we get to 1. The time to compute all these numbers gets exponentially longer at bigger *n*."
   ]
  },
  {
   "cell_type": "code",
   "execution_count": 16,
   "metadata": {},
   "outputs": [
    {
     "name": "stdout",
     "output_type": "stream",
     "text": [
      "0,1,1,2,3,5,8,13,21,34,...\n"
     ]
    }
   ],
   "source": [
    "from pqdm.processes import pqdm\n",
    "# from pqdm.threads import pqdm\n",
    "\n",
    "def fibonacci(n):\n",
    "    \"\"\"\n",
    "    Return the nth Fibonacci number recursively.\n",
    "    \"\"\"\n",
    "    if n <= 1:\n",
    "        return n\n",
    "    else:\n",
    "        return(fibonacci(n-1) + fibonacci(n-2))\n",
    "\n",
    "# Test the program works\n",
    "for i in range(10):\n",
    "    print(fibonacci(i), end=',')\n",
    "print('...')"
   ]
  },
  {
   "cell_type": "markdown",
   "metadata": {},
   "source": [
    "Let's time how long our code takes with larger n. This is overkill, but we'll use both the `%%time` and the `tqdm` progress bar."
   ]
  },
  {
   "cell_type": "code",
   "execution_count": 17,
   "metadata": {},
   "outputs": [
    {
     "name": "stderr",
     "output_type": "stream",
     "text": [
      "100%|██████████| 36/36 [00:06<00:00,  5.38it/s] "
     ]
    },
    {
     "name": "stdout",
     "output_type": "stream",
     "text": [
      "[0, 1, 1, 2, 3, 5, 8, 13, 21, 34, 55, 89, 144, 233, 377, 610, 987, 1597, 2584, 4181, 6765, 10946, 17711, 28657, 46368, 75025, 121393, 196418, 317811, 514229, 832040, 1346269, 2178309, 3524578, 5702887, 9227465]\n",
      "CPU times: user 6.71 s, sys: 0 ns, total: 6.71 s\n",
      "Wall time: 6.7 s\n"
     ]
    },
    {
     "name": "stderr",
     "output_type": "stream",
     "text": [
      "\n"
     ]
    }
   ],
   "source": [
    "%%time\n",
    "\n",
    "result = []\n",
    "for i in tqdm(range(36)):\n",
    "    result.append(fibonacci(i))\n",
    "print(result)"
   ]
  },
  {
   "cell_type": "markdown",
   "metadata": {},
   "source": [
    "Now let's break up our loop and let `pqdm` do it's magic. To run `pqdm`, we need the list of inputs to the function (in the above loop, it's just `range(36)`), the name of the function (`fibonacci`), and the number of jobs we want to split the work into (usually the number of cores on your computer is a good choice. I'm on a quad core PC, so i'll use `n_jobs=4`)."
   ]
  },
  {
   "cell_type": "code",
   "execution_count": 18,
   "metadata": {},
   "outputs": [
    {
     "data": {
      "application/vnd.jupyter.widget-view+json": {
       "model_id": "8f3e1d113d0946ff8cdda8d04e158ec9",
       "version_major": 2,
       "version_minor": 0
      },
      "text/plain": [
       "SUBMITTING | :   0%|          | 0/36 [00:00<?, ?it/s]"
      ]
     },
     "metadata": {},
     "output_type": "display_data"
    },
    {
     "data": {
      "application/vnd.jupyter.widget-view+json": {
       "model_id": "00e2f5ae3d044e6485d28b426d510c31",
       "version_major": 2,
       "version_minor": 0
      },
      "text/plain": [
       "PROCESSING | :   0%|          | 0/36 [00:00<?, ?it/s]"
      ]
     },
     "metadata": {},
     "output_type": "display_data"
    },
    {
     "data": {
      "application/vnd.jupyter.widget-view+json": {
       "model_id": "a872da15764e446a9d1788eec8e46f7b",
       "version_major": 2,
       "version_minor": 0
      },
      "text/plain": [
       "COLLECTING | :   0%|          | 0/36 [00:00<?, ?it/s]"
      ]
     },
     "metadata": {},
     "output_type": "display_data"
    },
    {
     "name": "stdout",
     "output_type": "stream",
     "text": [
      "[0, 1, 1, 2, 3, 5, 8, 13, 21, 34, 55, 89, 144, 233, 377, 610, 987, 1597, 2584, 4181, 6765, 10946, 17711, 28657, 46368, 75025, 121393, 196418, 317811, 514229, 832040, 1346269, 2178309, 3524578, 5702887, 9227465]\n",
      "CPU times: user 153 ms, sys: 50.3 ms, total: 204 ms\n",
      "Wall time: 3.78 s\n"
     ]
    }
   ],
   "source": [
    "%%time\n",
    "\n",
    "# To use pqdm, we need the list of values (range(36)), the function\n",
    "result = pqdm(range(36), fibonacci, n_jobs=4)\n",
    "print(result)"
   ]
  },
  {
   "cell_type": "markdown",
   "metadata": {},
   "source": [
    "Woohoo we cut down the runtime! Try with larger `n` to see how much faster we can get it with the power of parallel computing.\n",
    "\n",
    "We can also use `pqdm` to run through our previous example timing the max functions. We should be able to test longer arrays now that we can compute in parallel... Let's try it on `ndraws_list = [10, 100, 1000, 10000, 100000, 1000000]`. All we need to do is wrap our previous code in a function and we'll be good to go!"
   ]
  },
  {
   "cell_type": "code",
   "execution_count": 19,
   "metadata": {},
   "outputs": [
    {
     "data": {
      "application/vnd.jupyter.widget-view+json": {
       "model_id": "4cd814fec5774ec394eda4bcd4d61163",
       "version_major": 2,
       "version_minor": 0
      },
      "text/plain": [
       "SUBMITTING | :   0%|          | 0/6 [00:00<?, ?it/s]"
      ]
     },
     "metadata": {},
     "output_type": "display_data"
    },
    {
     "data": {
      "application/vnd.jupyter.widget-view+json": {
       "model_id": "073af487cf274c2abaf5f816a270719d",
       "version_major": 2,
       "version_minor": 0
      },
      "text/plain": [
       "PROCESSING | :   0%|          | 0/6 [00:00<?, ?it/s]"
      ]
     },
     "metadata": {},
     "output_type": "display_data"
    },
    {
     "data": {
      "application/vnd.jupyter.widget-view+json": {
       "model_id": "11f0a9c22a7543dea08ae9734f7774ed",
       "version_major": 2,
       "version_minor": 0
      },
      "text/plain": [
       "COLLECTING | :   0%|          | 0/6 [00:00<?, ?it/s]"
      ]
     },
     "metadata": {},
     "output_type": "display_data"
    }
   ],
   "source": [
    "rng = np.random.default_rng(999)\n",
    "ndraws_list = [10, 100, 1000, 10000, 100000, 1000000]\n",
    "\n",
    "def run_timeit(ndraws):\n",
    "    arr = rng.random(ndraws)\n",
    "    lst = list(arr)\n",
    "\n",
    "    timings = np.zeros(4)\n",
    "    t1 = %timeit -r 4 -o -q max_loop(lst)\n",
    "    timings[0] = t1.average\n",
    "    t2 = %timeit -r 4 -o -q max(lst)\n",
    "    timings[1] = t2.average\n",
    "    t3 = %timeit -r 4 -o -q np.max(arr)\n",
    "    timings[2] = t3.average\n",
    "    t4 = %timeit -r 4 -o -q arr.max()\n",
    "    timings[3] = t4.average\n",
    "    return timings\n",
    "\n",
    "# This time we'll use the same number of jobs as the length of our list\n",
    "out = pqdm(ndraws_list, run_timeit, n_jobs=len(ndraws_list))\n",
    "\n",
    "# In a Linux/Mac terminal, use `top` or `htop` to see processes and CPU usage"
   ]
  },
  {
   "cell_type": "code",
   "execution_count": 20,
   "metadata": {},
   "outputs": [
    {
     "data": {
      "image/png": "[encoded data removed]",
      "text/plain": [
       "<Figure size 576x432 with 1 Axes>"
      ]
     },
     "metadata": {},
     "output_type": "display_data"
    }
   ],
   "source": [
    "# transfer list to array\n",
    "timings = np.array(out)\n",
    "label_names = ['max_loop(lst)', 'max(lst)', 'np.max(arr)', 'arr.max()']\n",
    "\n",
    "# plot the data\n",
    "f = plt.figure(facecolor='white', figsize=(8, 6))\n",
    "ax = plt.subplot(111)\n",
    "\n",
    "for i, label in enumerate(label_names):\n",
    "    ax.plot(ndraws_list, timings[:, i], '.-', lw=.5, label=label)\n",
    "\n",
    "ax.set_xlabel('ndraws', fontname='Helvetica')\n",
    "ax.set_ylabel(r'run time [sec]', fontname='Helvetica')\n",
    "ax.set_xscale('log')\n",
    "ax.set_yscale('log')\n",
    "ax.legend()\n",
    "ax.text(0.45, 0.01, \"array = np.random(ndraws)\\nlist = list(array)\", ha='left', \n",
    "        va='bottom', transform=ax.transAxes, family='monospace')\n",
    "\n",
    "plt.show()\n",
    "plt.show()"
   ]
  },
  {
   "cell_type": "markdown",
   "metadata": {},
   "source": [
    "Here, we see that our previous scaling test of the max function up to $10^4$ was misleading because the slope changes a lot for $n=10^5$ and $n=10^6$. This is why it's important to test timings for \"large enough\" **n**, and simple parallelization with `pqdm` can help us do it quickly!"
   ]
  },
  {
   "cell_type": "markdown",
   "metadata": {},
   "source": [
    "## Numba\n",
    "\n",
    "Here, we will give a quick example of how to use a package called `numba` to automatically compile your Python code to **C** which can *magically* speed up your code.\n",
    "\n",
    "You can install Numba with:\n",
    "\n",
    "`conda install -c conda-forge numba`\n",
    "\n",
    "We highly recommend checking out this more detailed [Introduction to Numba](https://nyu-cds.github.io/python-numba/) by New York University. It has step by step tutorial like this textbook and practice problems as well.\n",
    "\n",
    "Other Numba resources:\n",
    "\n",
    "- [Numba docs: 5 minute guide to Numba](https://numba.pydata.org/numba-doc/latest/user/5minguide.html)\n",
    "- [Data Frog blog: Make Python Fast with Numba](https://thedatafrog.com/en/articles/make-python-fast-numba/)\n",
    "- [NumPy supported functions in Numba](https://numba.pydata.org/numba-doc/dev/reference/numpysupported.html)\n",
    "\n",
    "The example we will use is the Monte Carlo calculation of pi we did before!\n",
    "\n",
    "Let's time our original solutions first (for loop and vectorized)."
   ]
  },
  {
   "cell_type": "code",
   "execution_count": 3,
   "metadata": {},
   "outputs": [],
   "source": [
    "# Use this number of draws for our MC examples\n",
    "n_draws = int(1e8)"
   ]
  },
  {
   "cell_type": "markdown",
   "metadata": {},
   "source": [
    "### Method 1: Python code only (for loop, no NumPy, no Numba)\n",
    "\n",
    "To solve our problem with only Python, we will have to use the built-in `random` module in Python."
   ]
  },
  {
   "cell_type": "code",
   "execution_count": 2,
   "metadata": {},
   "outputs": [
    {
     "name": "stdout",
     "output_type": "stream",
     "text": [
      "46.4 s ± 1.31 s per loop (mean ± std. dev. of 4 runs, 1 loop each)\n"
     ]
    }
   ],
   "source": [
    "import random\n",
    "def python_pi(n): \n",
    "  n_in_circle = 0 \n",
    "  for _ in range(n):\n",
    "    x = random.random()\n",
    "    y = random.random()\n",
    "    if (x**2 + y**2 < 1):\n",
    "      n_in_circle += 1\n",
    "  return 4*n_in_circle / n\n",
    "\n",
    "%timeit -r 4 python_pi(n_draws)"
   ]
  },
  {
   "cell_type": "markdown",
   "metadata": {},
   "source": [
    "### Method 2: Use NumPy random (for loop, NumPy, no Numba)\n",
    "\n",
    "Here we will use the NumPy basic random functions `np.random.random()`. Normally we want to use a RNG object, but we'll skip it for the sake for this example."
   ]
  },
  {
   "cell_type": "code",
   "execution_count": 4,
   "metadata": {},
   "outputs": [
    {
     "name": "stdout",
     "output_type": "stream",
     "text": [
      "2min 20s ± 16.5 s per loop (mean ± std. dev. of 4 runs, 1 loop each)\n"
     ]
    }
   ],
   "source": [
    "import numpy as np\n",
    "def numpy_pi(n): \n",
    "  n_in_circle = 0 \n",
    "  for _ in range(n):\n",
    "    x = np.random.random()\n",
    "    y = np.random.random()\n",
    "    if (x**2+y**2 < 1):\n",
    "      n_in_circle += 1\n",
    "  return 4*n_in_circle / n\n",
    "\n",
    "%timeit -r 4 numpy_pi(n_draws)"
   ]
  },
  {
   "cell_type": "markdown",
   "metadata": {},
   "source": [
    "### Method 3: Use NumPy arrays (vectors, NumPy, no Numba)\n",
    "\n",
    "Here, we will skip the for loop entirely. We make our x and y random arrays and feed them into our equation of a circle directly. This is the **vectorized** solution."
   ]
  },
  {
   "cell_type": "code",
   "execution_count": 5,
   "metadata": {},
   "outputs": [
    {
     "name": "stdout",
     "output_type": "stream",
     "text": [
      "4.2 s ± 102 ms per loop (mean ± std. dev. of 4 runs, 1 loop each)\n"
     ]
    }
   ],
   "source": [
    "def numpy_vector_pi(n): \n",
    "    x = np.random.random(n)\n",
    "    y = np.random.random(n)\n",
    "    n_in_circle = len(np.where(x**2+y**2 < 1)[0])\n",
    "    return 4*n_in_circle / n\n",
    "%timeit -r 4 numpy_vector_pi(n_draws)"
   ]
  },
  {
   "cell_type": "markdown",
   "metadata": {},
   "source": [
    "We can gain a little speed by avoiding creating intermediate arrays `x` and `y`, as well as using the simple sum of the `True` values in our equation rather than `np.where`."
   ]
  },
  {
   "cell_type": "code",
   "execution_count": 6,
   "metadata": {},
   "outputs": [
    {
     "name": "stdout",
     "output_type": "stream",
     "text": [
      "2.76 s ± 5.97 ms per loop (mean ± std. dev. of 4 runs, 1 loop each)\n"
     ]
    }
   ],
   "source": [
    "def numpy_vector_pi(n): \n",
    "    n_in_circle = np.sum(np.random.random(n)**2 + np.random.random(n)**2 < 1)\n",
    "    return 4*n_in_circle / n\n",
    "%timeit -r 4 numpy_vector_pi(n_draws)"
   ]
  },
  {
   "cell_type": "markdown",
   "metadata": {},
   "source": [
    "This vectorized solution is about as quick as we can get just with Python / NumPy."
   ]
  },
  {
   "cell_type": "markdown",
   "metadata": {},
   "source": [
    "### Method 4: Use Numba to speed up Python loop (for loop, no NumPy, Numba)\n",
    "\n",
    "Numba has 2 main **decorators** that we can use to magically translate our function to compiled **C** code:\n",
    "\n",
    "1. `jit`: basic\n",
    "2. `njit`: \"no python\" mode, skips Python things\n",
    "\n",
    "Note: A decorator is a special type of function that changes the behavior of another function. We use a decorator with the `@` symbol on the line before a function definition, e.g.:\n",
    "\n",
    "```python\n",
    "@decorator\n",
    "def func():\n",
    "    # do stuff\n",
    "```\n",
    "\n",
    "The `njit` is a short form for `jit(nopython=True)`. This is usually the one we want (Numba will automatically change `njit` to `jit` if it needs to)."
   ]
  },
  {
   "cell_type": "code",
   "execution_count": 7,
   "metadata": {},
   "outputs": [
    {
     "name": "stdout",
     "output_type": "stream",
     "text": [
      "1.19 s ± 3.44 ms per loop (mean ± std. dev. of 4 runs, 1 loop each)\n"
     ]
    }
   ],
   "source": [
    "from numba import njit\n",
    "@njit\n",
    "def numba_pi(n): \n",
    "  n_in_circle = 0 \n",
    "  for _ in range(n):\n",
    "    x = random.random()\n",
    "    y = random.random()\n",
    "    if (x**2+y**2 < 1):\n",
    "      n_in_circle += 1\n",
    "  return 4*n_in_circle / n\n",
    "%timeit -r 4 numba_pi(n_draws)"
   ]
  },
  {
   "cell_type": "markdown",
   "metadata": {},
   "source": [
    "### Method 5: Use Numba with NumPy loop (for loop, NumPy, Numba)\n",
    "\n",
    "Here we'll try using Numba on the Method 2 example."
   ]
  },
  {
   "cell_type": "code",
   "execution_count": 8,
   "metadata": {},
   "outputs": [
    {
     "name": "stdout",
     "output_type": "stream",
     "text": [
      "1.21 s ± 9.42 ms per loop (mean ± std. dev. of 4 runs, 1 loop each)\n"
     ]
    }
   ],
   "source": [
    "@njit\n",
    "def numba_numpy_pi(n): \n",
    "  n_in_circle = 0 \n",
    "  for _ in range(n):\n",
    "    x = np.random.random()\n",
    "    y = np.random.random()\n",
    "    if (x**2+y**2 < 1):\n",
    "      n_in_circle += 1\n",
    "  return 4*n_in_circle / n\n",
    "\n",
    "%timeit -r 4 numba_numpy_pi(n_draws)"
   ]
  },
  {
   "cell_type": "markdown",
   "metadata": {},
   "source": [
    "### Method 7: Use Numba with vectorized code (vector, NumPy, Numba)\n",
    "\n",
    "Here we will use Numba on Method 3."
   ]
  },
  {
   "cell_type": "code",
   "execution_count": 9,
   "metadata": {},
   "outputs": [
    {
     "name": "stdout",
     "output_type": "stream",
     "text": [
      "2.15 s ± 21.3 ms per loop (mean ± std. dev. of 4 runs, 1 loop each)\n"
     ]
    }
   ],
   "source": [
    "@njit\n",
    "def numba_numpy_vector_pi(n): \n",
    "    n_in_circle = np.sum(np.random.random(n)**2 + np.random.random(n)**2 < 1)\n",
    "    return 4*n_in_circle / n\n",
    "%timeit -r 4 numba_numpy_vector_pi(n_draws)"
   ]
  },
  {
   "cell_type": "markdown",
   "metadata": {},
   "source": [
    "### Method 8: Use Numba in parallel (for loop, NumPy, Numba parallel)\n",
    "\n",
    "We can add the option `(parallel=True)` to our Numba decorators to have it parallelize our loop automatically.\n",
    "\n",
    "One thing we have to do here is define our output array ahead of time so Numba knows where to store the parallel results."
   ]
  },
  {
   "cell_type": "code",
   "execution_count": 10,
   "metadata": {},
   "outputs": [
    {
     "name": "stderr",
     "output_type": "stream",
     "text": [
      "OMP: Info #271: omp_set_nested routine deprecated, please use omp_set_max_active_levels instead.\n"
     ]
    },
    {
     "name": "stdout",
     "output_type": "stream",
     "text": [
      "1.89 s ± 6.14 ms per loop (mean ± std. dev. of 4 runs, 1 loop each)\n"
     ]
    }
   ],
   "source": [
    "@njit(parallel=True)\n",
    "def numba_parallel_pi(n): \n",
    "  n_in_circle = np.zeros(n)\n",
    "  for i in range(n):\n",
    "    x = np.random.random()\n",
    "    y = np.random.random()\n",
    "    if (x**2+y**2 < 1):\n",
    "      n_in_circle[i] = 1\n",
    "  return 4*np.sum(n_in_circle) / n\n",
    "\n",
    "%timeit -r 4 numba_parallel_pi(n_draws)"
   ]
  },
  {
   "cell_type": "markdown",
   "metadata": {},
   "source": [
    "So it seems parallelization doesn't always speed up our work. The main reason is **overhead**. \n",
    "\n",
    "**Overhead** is the extra time introduced by our clever speedup techniques. Some of the hidden overhead in the above examples were:\n",
    "\n",
    "- Creating a large NumPy array\n",
    "- Having Numba convert our code to **C**\n",
    "- Having Numba parallelize our code (send it to different processes and wait for a result)\n",
    "\n",
    "If the work we are doing is really easy, the **overhead** we introduce by running it through Numba or parallelizing it can take just as long or longer than the work itself!\n",
    "\n",
    "This is why it is important to be able to run quick timing tests with small parts of our code before we dedicate a lot of time to making it more efficient!"
   ]
  },
  {
   "cell_type": "markdown",
   "metadata": {},
   "source": [
    "## [Assignment 1] Improving code efficiency\n",
    "\n",
    "In this assignment, you will be given a function that computes the **factorial** of a number using a for loop. \n",
    "\n",
    "You will need to develop the following alternatives to the given function:\n",
    "\n",
    "- a. Same function using the Numba `@njit` decorator\n",
    "- b. Same function using parallel Numba `@njit(parallel=True)`\n",
    "- c. An alternative function for computing factorials (try googling for a NumPy function that might help)\n",
    "\n",
    "Once you have your functions: \n",
    "\n",
    "- Time each for a range of **n** values\n",
    "- Plot the *scaling* behavior (time vs. n)\n",
    "- Conclude which function performs the best at high **n**"
   ]
  },
  {
   "cell_type": "code",
   "execution_count": 11,
   "metadata": {},
   "outputs": [],
   "source": [
    "def factorial(n):\n",
    "    if n == 1:\n",
    "        return 1\n",
    "    else:\n",
    "        return n * factorial(n-1)"
   ]
  },
  {
   "cell_type": "code",
   "execution_count": 32,
   "metadata": {},
   "outputs": [],
   "source": [
    "# [your code here]"
   ]
  },
  {
   "cell_type": "markdown",
   "metadata": {},
   "source": [
    "## [Assignment 2]\n",
    "\n",
    "For this assignment you may need to do some reading / research to learn how to use a new decorator. Often in scientific programming we become aware of a tool but don't know exactly how to use it. \n",
    "\n",
    "The name of the decorator you need to use is `lru_cache`. Using google, your peers, and/or the \"#help\" channel in Slack, apply `@lru_cache` to the `fibonacci(n)` function we used before.\n",
    "\n",
    "Time the function for a range of **n** values before and after using `lru_cache` and plot the scaling behavior like above.\n",
    "\n",
    "Write a brief description of what `lru_cache` does and include a link to the official documentation.\n",
    "\n",
    "Note: Make sure the highest **n** value you use takes at least 1 minute to compute the function (without `lru_cache`) below."
   ]
  },
  {
   "cell_type": "code",
   "execution_count": 29,
   "metadata": {},
   "outputs": [],
   "source": [
    "def fibonacci(n):\n",
    "    \"\"\"\n",
    "    Return the nth Fibonacci number recursively.\n",
    "    \"\"\"\n",
    "    if n <= 1:\n",
    "        return n\n",
    "    else:\n",
    "        return(fibonacci(n-1) + fibonacci(n-2))"
   ]
  },
  {
   "cell_type": "code",
   "execution_count": 43,
   "metadata": {},
   "outputs": [
    {
     "name": "stdout",
     "output_type": "stream",
     "text": [
      "CPU times: user 4 µs, sys: 2 µs, total: 6 µs\n",
      "Wall time: 10 µs\n",
      "20 0.004547333714851577\n",
      "30 0.35720404114337206\n",
      "33 1.4324307347144765\n",
      "36 6.169028410429227\n",
      "37 10.84487232171419\n",
      "38 19.589205079571133\n"
     ]
    }
   ],
   "source": [
    "%time\n",
    "\n",
    "n_list = [20, 30, 33, 36, 37, 38, 39, 40]  # numbers to try\n",
    "\n",
    "timings = np.zeros((len(n_list))) \n",
    "for i, num in enumerate(n_list):      #returns both \"i\" and \"n\"\n",
    "\n",
    "    t1 = %timeit -n 1 -o -q fibonacci(num)\n",
    "    timings[i] = t1.average\n",
    "    print(num,timings[i])"
   ]
  },
  {
   "cell_type": "code",
   "execution_count": 45,
   "metadata": {},
   "outputs": [
    {
     "ename": "KeyboardInterrupt",
     "evalue": "",
     "output_type": "error",
     "traceback": [
      "\u001b[0;31m---------------------------------------------------------------------------\u001b[0m",
      "\u001b[0;31mKeyboardInterrupt\u001b[0m                         Traceback (most recent call last)",
      "\u001b[0;32m/var/folders/mv/gvc101b94zz4pyyn_xy8m8tm0000gn/T/ipykernel_34142/2759352762.py\u001b[0m in \u001b[0;36m<module>\u001b[0;34m\u001b[0m\n\u001b[1;32m      3\u001b[0m \u001b[0;32mfor\u001b[0m \u001b[0mi\u001b[0m \u001b[0;32min\u001b[0m \u001b[0menumerate\u001b[0m\u001b[0;34m(\u001b[0m\u001b[0mnum_list\u001b[0m\u001b[0;34m)\u001b[0m\u001b[0;34m:\u001b[0m      \u001b[0;31m#returns both \"i\" and \"n\"\u001b[0m\u001b[0;34m\u001b[0m\u001b[0;34m\u001b[0m\u001b[0m\n\u001b[1;32m      4\u001b[0m \u001b[0;34m\u001b[0m\u001b[0m\n\u001b[0;32m----> 5\u001b[0;31m     \u001b[0mt1\u001b[0m \u001b[0;34m=\u001b[0m \u001b[0mget_ipython\u001b[0m\u001b[0;34m(\u001b[0m\u001b[0;34m)\u001b[0m\u001b[0;34m.\u001b[0m\u001b[0mrun_line_magic\u001b[0m\u001b[0;34m(\u001b[0m\u001b[0;34m'timeit'\u001b[0m\u001b[0;34m,\u001b[0m \u001b[0;34m'-n 1 -o -q fibonacci(num)'\u001b[0m\u001b[0;34m)\u001b[0m\u001b[0;34m\u001b[0m\u001b[0;34m\u001b[0m\u001b[0m\n\u001b[0m\u001b[1;32m      6\u001b[0m     \u001b[0mtimings\u001b[0m\u001b[0;34m[\u001b[0m\u001b[0mi\u001b[0m\u001b[0;34m]\u001b[0m \u001b[0;34m=\u001b[0m \u001b[0mt1\u001b[0m\u001b[0;34m.\u001b[0m\u001b[0maverage\u001b[0m\u001b[0;34m\u001b[0m\u001b[0;34m\u001b[0m\u001b[0m\n\u001b[1;32m      7\u001b[0m     \u001b[0mprint\u001b[0m\u001b[0;34m(\u001b[0m\u001b[0mnum\u001b[0m\u001b[0;34m,\u001b[0m\u001b[0mtimings\u001b[0m\u001b[0;34m[\u001b[0m\u001b[0mi\u001b[0m\u001b[0;34m]\u001b[0m\u001b[0;34m)\u001b[0m\u001b[0;34m\u001b[0m\u001b[0;34m\u001b[0m\u001b[0m\n",
      "\u001b[0;32m/opt/anaconda3/envs/pymc3_env/lib/python3.9/site-packages/IPython/core/interactiveshell.py\u001b[0m in \u001b[0;36mrun_line_magic\u001b[0;34m(self, magic_name, line, _stack_depth)\u001b[0m\n\u001b[1;32m   2349\u001b[0m                 \u001b[0mkwargs\u001b[0m\u001b[0;34m[\u001b[0m\u001b[0;34m'local_ns'\u001b[0m\u001b[0;34m]\u001b[0m \u001b[0;34m=\u001b[0m \u001b[0mself\u001b[0m\u001b[0;34m.\u001b[0m\u001b[0mget_local_scope\u001b[0m\u001b[0;34m(\u001b[0m\u001b[0mstack_depth\u001b[0m\u001b[0;34m)\u001b[0m\u001b[0;34m\u001b[0m\u001b[0;34m\u001b[0m\u001b[0m\n\u001b[1;32m   2350\u001b[0m             \u001b[0;32mwith\u001b[0m \u001b[0mself\u001b[0m\u001b[0;34m.\u001b[0m\u001b[0mbuiltin_trap\u001b[0m\u001b[0;34m:\u001b[0m\u001b[0;34m\u001b[0m\u001b[0;34m\u001b[0m\u001b[0m\n\u001b[0;32m-> 2351\u001b[0;31m                 \u001b[0mresult\u001b[0m \u001b[0;34m=\u001b[0m \u001b[0mfn\u001b[0m\u001b[0;34m(\u001b[0m\u001b[0;34m*\u001b[0m\u001b[0margs\u001b[0m\u001b[0;34m,\u001b[0m \u001b[0;34m**\u001b[0m\u001b[0mkwargs\u001b[0m\u001b[0;34m)\u001b[0m\u001b[0;34m\u001b[0m\u001b[0;34m\u001b[0m\u001b[0m\n\u001b[0m\u001b[1;32m   2352\u001b[0m             \u001b[0;32mreturn\u001b[0m \u001b[0mresult\u001b[0m\u001b[0;34m\u001b[0m\u001b[0;34m\u001b[0m\u001b[0m\n\u001b[1;32m   2353\u001b[0m \u001b[0;34m\u001b[0m\u001b[0m\n",
      "\u001b[0;32m/opt/anaconda3/envs/pymc3_env/lib/python3.9/site-packages/decorator.py\u001b[0m in \u001b[0;36mfun\u001b[0;34m(*args, **kw)\u001b[0m\n\u001b[1;32m    230\u001b[0m             \u001b[0;32mif\u001b[0m \u001b[0;32mnot\u001b[0m \u001b[0mkwsyntax\u001b[0m\u001b[0;34m:\u001b[0m\u001b[0;34m\u001b[0m\u001b[0;34m\u001b[0m\u001b[0m\n\u001b[1;32m    231\u001b[0m                 \u001b[0margs\u001b[0m\u001b[0;34m,\u001b[0m \u001b[0mkw\u001b[0m \u001b[0;34m=\u001b[0m \u001b[0mfix\u001b[0m\u001b[0;34m(\u001b[0m\u001b[0margs\u001b[0m\u001b[0;34m,\u001b[0m \u001b[0mkw\u001b[0m\u001b[0;34m,\u001b[0m \u001b[0msig\u001b[0m\u001b[0;34m)\u001b[0m\u001b[0;34m\u001b[0m\u001b[0;34m\u001b[0m\u001b[0m\n\u001b[0;32m--> 232\u001b[0;31m             \u001b[0;32mreturn\u001b[0m \u001b[0mcaller\u001b[0m\u001b[0;34m(\u001b[0m\u001b[0mfunc\u001b[0m\u001b[0;34m,\u001b[0m \u001b[0;34m*\u001b[0m\u001b[0;34m(\u001b[0m\u001b[0mextras\u001b[0m \u001b[0;34m+\u001b[0m \u001b[0margs\u001b[0m\u001b[0;34m)\u001b[0m\u001b[0;34m,\u001b[0m \u001b[0;34m**\u001b[0m\u001b[0mkw\u001b[0m\u001b[0;34m)\u001b[0m\u001b[0;34m\u001b[0m\u001b[0;34m\u001b[0m\u001b[0m\n\u001b[0m\u001b[1;32m    233\u001b[0m     \u001b[0mfun\u001b[0m\u001b[0;34m.\u001b[0m\u001b[0m__name__\u001b[0m \u001b[0;34m=\u001b[0m \u001b[0mfunc\u001b[0m\u001b[0;34m.\u001b[0m\u001b[0m__name__\u001b[0m\u001b[0;34m\u001b[0m\u001b[0;34m\u001b[0m\u001b[0m\n\u001b[1;32m    234\u001b[0m     \u001b[0mfun\u001b[0m\u001b[0;34m.\u001b[0m\u001b[0m__doc__\u001b[0m \u001b[0;34m=\u001b[0m \u001b[0mfunc\u001b[0m\u001b[0;34m.\u001b[0m\u001b[0m__doc__\u001b[0m\u001b[0;34m\u001b[0m\u001b[0;34m\u001b[0m\u001b[0m\n",
      "\u001b[0;32m/opt/anaconda3/envs/pymc3_env/lib/python3.9/site-packages/IPython/core/magic.py\u001b[0m in \u001b[0;36m<lambda>\u001b[0;34m(f, *a, **k)\u001b[0m\n\u001b[1;32m    185\u001b[0m     \u001b[0;31m# but it's overkill for just that one bit of state.\u001b[0m\u001b[0;34m\u001b[0m\u001b[0;34m\u001b[0m\u001b[0m\n\u001b[1;32m    186\u001b[0m     \u001b[0;32mdef\u001b[0m \u001b[0mmagic_deco\u001b[0m\u001b[0;34m(\u001b[0m\u001b[0marg\u001b[0m\u001b[0;34m)\u001b[0m\u001b[0;34m:\u001b[0m\u001b[0;34m\u001b[0m\u001b[0;34m\u001b[0m\u001b[0m\n\u001b[0;32m--> 187\u001b[0;31m         \u001b[0mcall\u001b[0m \u001b[0;34m=\u001b[0m \u001b[0;32mlambda\u001b[0m \u001b[0mf\u001b[0m\u001b[0;34m,\u001b[0m \u001b[0;34m*\u001b[0m\u001b[0ma\u001b[0m\u001b[0;34m,\u001b[0m \u001b[0;34m**\u001b[0m\u001b[0mk\u001b[0m\u001b[0;34m:\u001b[0m \u001b[0mf\u001b[0m\u001b[0;34m(\u001b[0m\u001b[0;34m*\u001b[0m\u001b[0ma\u001b[0m\u001b[0;34m,\u001b[0m \u001b[0;34m**\u001b[0m\u001b[0mk\u001b[0m\u001b[0;34m)\u001b[0m\u001b[0;34m\u001b[0m\u001b[0;34m\u001b[0m\u001b[0m\n\u001b[0m\u001b[1;32m    188\u001b[0m \u001b[0;34m\u001b[0m\u001b[0m\n\u001b[1;32m    189\u001b[0m         \u001b[0;32mif\u001b[0m \u001b[0mcallable\u001b[0m\u001b[0;34m(\u001b[0m\u001b[0marg\u001b[0m\u001b[0;34m)\u001b[0m\u001b[0;34m:\u001b[0m\u001b[0;34m\u001b[0m\u001b[0;34m\u001b[0m\u001b[0m\n",
      "\u001b[0;32m/opt/anaconda3/envs/pymc3_env/lib/python3.9/site-packages/IPython/core/magics/execution.py\u001b[0m in \u001b[0;36mtimeit\u001b[0;34m(self, line, cell, local_ns)\u001b[0m\n\u001b[1;32m   1171\u001b[0m                     \u001b[0;32mbreak\u001b[0m\u001b[0;34m\u001b[0m\u001b[0;34m\u001b[0m\u001b[0m\n\u001b[1;32m   1172\u001b[0m \u001b[0;34m\u001b[0m\u001b[0m\n\u001b[0;32m-> 1173\u001b[0;31m         \u001b[0mall_runs\u001b[0m \u001b[0;34m=\u001b[0m \u001b[0mtimer\u001b[0m\u001b[0;34m.\u001b[0m\u001b[0mrepeat\u001b[0m\u001b[0;34m(\u001b[0m\u001b[0mrepeat\u001b[0m\u001b[0;34m,\u001b[0m \u001b[0mnumber\u001b[0m\u001b[0;34m)\u001b[0m\u001b[0;34m\u001b[0m\u001b[0;34m\u001b[0m\u001b[0m\n\u001b[0m\u001b[1;32m   1174\u001b[0m         \u001b[0mbest\u001b[0m \u001b[0;34m=\u001b[0m \u001b[0mmin\u001b[0m\u001b[0;34m(\u001b[0m\u001b[0mall_runs\u001b[0m\u001b[0;34m)\u001b[0m \u001b[0;34m/\u001b[0m \u001b[0mnumber\u001b[0m\u001b[0;34m\u001b[0m\u001b[0;34m\u001b[0m\u001b[0m\n\u001b[1;32m   1175\u001b[0m         \u001b[0mworst\u001b[0m \u001b[0;34m=\u001b[0m \u001b[0mmax\u001b[0m\u001b[0;34m(\u001b[0m\u001b[0mall_runs\u001b[0m\u001b[0;34m)\u001b[0m \u001b[0;34m/\u001b[0m \u001b[0mnumber\u001b[0m\u001b[0;34m\u001b[0m\u001b[0;34m\u001b[0m\u001b[0m\n",
      "\u001b[0;32m/opt/anaconda3/envs/pymc3_env/lib/python3.9/timeit.py\u001b[0m in \u001b[0;36mrepeat\u001b[0;34m(self, repeat, number)\u001b[0m\n\u001b[1;32m    203\u001b[0m         \u001b[0mr\u001b[0m \u001b[0;34m=\u001b[0m \u001b[0;34m[\u001b[0m\u001b[0;34m]\u001b[0m\u001b[0;34m\u001b[0m\u001b[0;34m\u001b[0m\u001b[0m\n\u001b[1;32m    204\u001b[0m         \u001b[0;32mfor\u001b[0m \u001b[0mi\u001b[0m \u001b[0;32min\u001b[0m \u001b[0mrange\u001b[0m\u001b[0;34m(\u001b[0m\u001b[0mrepeat\u001b[0m\u001b[0;34m)\u001b[0m\u001b[0;34m:\u001b[0m\u001b[0;34m\u001b[0m\u001b[0;34m\u001b[0m\u001b[0m\n\u001b[0;32m--> 205\u001b[0;31m             \u001b[0mt\u001b[0m \u001b[0;34m=\u001b[0m \u001b[0mself\u001b[0m\u001b[0;34m.\u001b[0m\u001b[0mtimeit\u001b[0m\u001b[0;34m(\u001b[0m\u001b[0mnumber\u001b[0m\u001b[0;34m)\u001b[0m\u001b[0;34m\u001b[0m\u001b[0;34m\u001b[0m\u001b[0m\n\u001b[0m\u001b[1;32m    206\u001b[0m             \u001b[0mr\u001b[0m\u001b[0;34m.\u001b[0m\u001b[0mappend\u001b[0m\u001b[0;34m(\u001b[0m\u001b[0mt\u001b[0m\u001b[0;34m)\u001b[0m\u001b[0;34m\u001b[0m\u001b[0;34m\u001b[0m\u001b[0m\n\u001b[1;32m    207\u001b[0m         \u001b[0;32mreturn\u001b[0m \u001b[0mr\u001b[0m\u001b[0;34m\u001b[0m\u001b[0;34m\u001b[0m\u001b[0m\n",
      "\u001b[0;32m/opt/anaconda3/envs/pymc3_env/lib/python3.9/site-packages/IPython/core/magics/execution.py\u001b[0m in \u001b[0;36mtimeit\u001b[0;34m(self, number)\u001b[0m\n\u001b[1;32m    167\u001b[0m         \u001b[0mgc\u001b[0m\u001b[0;34m.\u001b[0m\u001b[0mdisable\u001b[0m\u001b[0;34m(\u001b[0m\u001b[0;34m)\u001b[0m\u001b[0;34m\u001b[0m\u001b[0;34m\u001b[0m\u001b[0m\n\u001b[1;32m    168\u001b[0m         \u001b[0;32mtry\u001b[0m\u001b[0;34m:\u001b[0m\u001b[0;34m\u001b[0m\u001b[0;34m\u001b[0m\u001b[0m\n\u001b[0;32m--> 169\u001b[0;31m             \u001b[0mtiming\u001b[0m \u001b[0;34m=\u001b[0m \u001b[0mself\u001b[0m\u001b[0;34m.\u001b[0m\u001b[0minner\u001b[0m\u001b[0;34m(\u001b[0m\u001b[0mit\u001b[0m\u001b[0;34m,\u001b[0m \u001b[0mself\u001b[0m\u001b[0;34m.\u001b[0m\u001b[0mtimer\u001b[0m\u001b[0;34m)\u001b[0m\u001b[0;34m\u001b[0m\u001b[0;34m\u001b[0m\u001b[0m\n\u001b[0m\u001b[1;32m    170\u001b[0m         \u001b[0;32mfinally\u001b[0m\u001b[0;34m:\u001b[0m\u001b[0;34m\u001b[0m\u001b[0;34m\u001b[0m\u001b[0m\n\u001b[1;32m    171\u001b[0m             \u001b[0;32mif\u001b[0m \u001b[0mgcold\u001b[0m\u001b[0;34m:\u001b[0m\u001b[0;34m\u001b[0m\u001b[0;34m\u001b[0m\u001b[0m\n",
      "\u001b[0;32m<magic-timeit>\u001b[0m in \u001b[0;36minner\u001b[0;34m(_it, _timer)\u001b[0m\n",
      "\u001b[0;32m/var/folders/mv/gvc101b94zz4pyyn_xy8m8tm0000gn/T/ipykernel_34142/72201819.py\u001b[0m in \u001b[0;36mfibonacci\u001b[0;34m(n)\u001b[0m\n\u001b[1;32m      6\u001b[0m         \u001b[0;32mreturn\u001b[0m \u001b[0mn\u001b[0m\u001b[0;34m\u001b[0m\u001b[0;34m\u001b[0m\u001b[0m\n\u001b[1;32m      7\u001b[0m     \u001b[0;32melse\u001b[0m\u001b[0;34m:\u001b[0m\u001b[0;34m\u001b[0m\u001b[0;34m\u001b[0m\u001b[0m\n\u001b[0;32m----> 8\u001b[0;31m         \u001b[0;32mreturn\u001b[0m\u001b[0;34m(\u001b[0m\u001b[0mfibonacci\u001b[0m\u001b[0;34m(\u001b[0m\u001b[0mn\u001b[0m\u001b[0;34m-\u001b[0m\u001b[0;36m1\u001b[0m\u001b[0;34m)\u001b[0m \u001b[0;34m+\u001b[0m \u001b[0mfibonacci\u001b[0m\u001b[0;34m(\u001b[0m\u001b[0mn\u001b[0m\u001b[0;34m-\u001b[0m\u001b[0;36m2\u001b[0m\u001b[0;34m)\u001b[0m\u001b[0;34m)\u001b[0m\u001b[0;34m\u001b[0m\u001b[0;34m\u001b[0m\u001b[0m\n\u001b[0m",
      "\u001b[0;32m/var/folders/mv/gvc101b94zz4pyyn_xy8m8tm0000gn/T/ipykernel_34142/72201819.py\u001b[0m in \u001b[0;36mfibonacci\u001b[0;34m(n)\u001b[0m\n\u001b[1;32m      6\u001b[0m         \u001b[0;32mreturn\u001b[0m \u001b[0mn\u001b[0m\u001b[0;34m\u001b[0m\u001b[0;34m\u001b[0m\u001b[0m\n\u001b[1;32m      7\u001b[0m     \u001b[0;32melse\u001b[0m\u001b[0;34m:\u001b[0m\u001b[0;34m\u001b[0m\u001b[0;34m\u001b[0m\u001b[0m\n\u001b[0;32m----> 8\u001b[0;31m         \u001b[0;32mreturn\u001b[0m\u001b[0;34m(\u001b[0m\u001b[0mfibonacci\u001b[0m\u001b[0;34m(\u001b[0m\u001b[0mn\u001b[0m\u001b[0;34m-\u001b[0m\u001b[0;36m1\u001b[0m\u001b[0;34m)\u001b[0m \u001b[0;34m+\u001b[0m \u001b[0mfibonacci\u001b[0m\u001b[0;34m(\u001b[0m\u001b[0mn\u001b[0m\u001b[0;34m-\u001b[0m\u001b[0;36m2\u001b[0m\u001b[0;34m)\u001b[0m\u001b[0;34m)\u001b[0m\u001b[0;34m\u001b[0m\u001b[0;34m\u001b[0m\u001b[0m\n\u001b[0m",
      "\u001b[0;32m/var/folders/mv/gvc101b94zz4pyyn_xy8m8tm0000gn/T/ipykernel_34142/72201819.py\u001b[0m in \u001b[0;36mfibonacci\u001b[0;34m(n)\u001b[0m\n\u001b[1;32m      6\u001b[0m         \u001b[0;32mreturn\u001b[0m \u001b[0mn\u001b[0m\u001b[0;34m\u001b[0m\u001b[0;34m\u001b[0m\u001b[0m\n\u001b[1;32m      7\u001b[0m     \u001b[0;32melse\u001b[0m\u001b[0;34m:\u001b[0m\u001b[0;34m\u001b[0m\u001b[0;34m\u001b[0m\u001b[0m\n\u001b[0;32m----> 8\u001b[0;31m         \u001b[0;32mreturn\u001b[0m\u001b[0;34m(\u001b[0m\u001b[0mfibonacci\u001b[0m\u001b[0;34m(\u001b[0m\u001b[0mn\u001b[0m\u001b[0;34m-\u001b[0m\u001b[0;36m1\u001b[0m\u001b[0;34m)\u001b[0m \u001b[0;34m+\u001b[0m \u001b[0mfibonacci\u001b[0m\u001b[0;34m(\u001b[0m\u001b[0mn\u001b[0m\u001b[0;34m-\u001b[0m\u001b[0;36m2\u001b[0m\u001b[0;34m)\u001b[0m\u001b[0;34m)\u001b[0m\u001b[0;34m\u001b[0m\u001b[0;34m\u001b[0m\u001b[0m\n\u001b[0m",
      "\u001b[0;32m/var/folders/mv/gvc101b94zz4pyyn_xy8m8tm0000gn/T/ipykernel_34142/72201819.py\u001b[0m in \u001b[0;36mfibonacci\u001b[0;34m(n)\u001b[0m\n\u001b[1;32m      6\u001b[0m         \u001b[0;32mreturn\u001b[0m \u001b[0mn\u001b[0m\u001b[0;34m\u001b[0m\u001b[0;34m\u001b[0m\u001b[0m\n\u001b[1;32m      7\u001b[0m     \u001b[0;32melse\u001b[0m\u001b[0;34m:\u001b[0m\u001b[0;34m\u001b[0m\u001b[0;34m\u001b[0m\u001b[0m\n\u001b[0;32m----> 8\u001b[0;31m         \u001b[0;32mreturn\u001b[0m\u001b[0;34m(\u001b[0m\u001b[0mfibonacci\u001b[0m\u001b[0;34m(\u001b[0m\u001b[0mn\u001b[0m\u001b[0;34m-\u001b[0m\u001b[0;36m1\u001b[0m\u001b[0;34m)\u001b[0m \u001b[0;34m+\u001b[0m \u001b[0mfibonacci\u001b[0m\u001b[0;34m(\u001b[0m\u001b[0mn\u001b[0m\u001b[0;34m-\u001b[0m\u001b[0;36m2\u001b[0m\u001b[0;34m)\u001b[0m\u001b[0;34m)\u001b[0m\u001b[0;34m\u001b[0m\u001b[0;34m\u001b[0m\u001b[0m\n\u001b[0m",
      "\u001b[0;32m/var/folders/mv/gvc101b94zz4pyyn_xy8m8tm0000gn/T/ipykernel_34142/72201819.py\u001b[0m in \u001b[0;36mfibonacci\u001b[0;34m(n)\u001b[0m\n\u001b[1;32m      6\u001b[0m         \u001b[0;32mreturn\u001b[0m \u001b[0mn\u001b[0m\u001b[0;34m\u001b[0m\u001b[0;34m\u001b[0m\u001b[0m\n\u001b[1;32m      7\u001b[0m     \u001b[0;32melse\u001b[0m\u001b[0;34m:\u001b[0m\u001b[0;34m\u001b[0m\u001b[0;34m\u001b[0m\u001b[0m\n\u001b[0;32m----> 8\u001b[0;31m         \u001b[0;32mreturn\u001b[0m\u001b[0;34m(\u001b[0m\u001b[0mfibonacci\u001b[0m\u001b[0;34m(\u001b[0m\u001b[0mn\u001b[0m\u001b[0;34m-\u001b[0m\u001b[0;36m1\u001b[0m\u001b[0;34m)\u001b[0m \u001b[0;34m+\u001b[0m \u001b[0mfibonacci\u001b[0m\u001b[0;34m(\u001b[0m\u001b[0mn\u001b[0m\u001b[0;34m-\u001b[0m\u001b[0;36m2\u001b[0m\u001b[0;34m)\u001b[0m\u001b[0;34m)\u001b[0m\u001b[0;34m\u001b[0m\u001b[0;34m\u001b[0m\u001b[0m\n\u001b[0m",
      "\u001b[0;32m/var/folders/mv/gvc101b94zz4pyyn_xy8m8tm0000gn/T/ipykernel_34142/72201819.py\u001b[0m in \u001b[0;36mfibonacci\u001b[0;34m(n)\u001b[0m\n\u001b[1;32m      6\u001b[0m         \u001b[0;32mreturn\u001b[0m \u001b[0mn\u001b[0m\u001b[0;34m\u001b[0m\u001b[0;34m\u001b[0m\u001b[0m\n\u001b[1;32m      7\u001b[0m     \u001b[0;32melse\u001b[0m\u001b[0;34m:\u001b[0m\u001b[0;34m\u001b[0m\u001b[0;34m\u001b[0m\u001b[0m\n\u001b[0;32m----> 8\u001b[0;31m         \u001b[0;32mreturn\u001b[0m\u001b[0;34m(\u001b[0m\u001b[0mfibonacci\u001b[0m\u001b[0;34m(\u001b[0m\u001b[0mn\u001b[0m\u001b[0;34m-\u001b[0m\u001b[0;36m1\u001b[0m\u001b[0;34m)\u001b[0m \u001b[0;34m+\u001b[0m \u001b[0mfibonacci\u001b[0m\u001b[0;34m(\u001b[0m\u001b[0mn\u001b[0m\u001b[0;34m-\u001b[0m\u001b[0;36m2\u001b[0m\u001b[0;34m)\u001b[0m\u001b[0;34m)\u001b[0m\u001b[0;34m\u001b[0m\u001b[0;34m\u001b[0m\u001b[0m\n\u001b[0m",
      "\u001b[0;32m/var/folders/mv/gvc101b94zz4pyyn_xy8m8tm0000gn/T/ipykernel_34142/72201819.py\u001b[0m in \u001b[0;36mfibonacci\u001b[0;34m(n)\u001b[0m\n\u001b[1;32m      6\u001b[0m         \u001b[0;32mreturn\u001b[0m \u001b[0mn\u001b[0m\u001b[0;34m\u001b[0m\u001b[0;34m\u001b[0m\u001b[0m\n\u001b[1;32m      7\u001b[0m     \u001b[0;32melse\u001b[0m\u001b[0;34m:\u001b[0m\u001b[0;34m\u001b[0m\u001b[0;34m\u001b[0m\u001b[0m\n\u001b[0;32m----> 8\u001b[0;31m         \u001b[0;32mreturn\u001b[0m\u001b[0;34m(\u001b[0m\u001b[0mfibonacci\u001b[0m\u001b[0;34m(\u001b[0m\u001b[0mn\u001b[0m\u001b[0;34m-\u001b[0m\u001b[0;36m1\u001b[0m\u001b[0;34m)\u001b[0m \u001b[0;34m+\u001b[0m \u001b[0mfibonacci\u001b[0m\u001b[0;34m(\u001b[0m\u001b[0mn\u001b[0m\u001b[0;34m-\u001b[0m\u001b[0;36m2\u001b[0m\u001b[0;34m)\u001b[0m\u001b[0;34m)\u001b[0m\u001b[0;34m\u001b[0m\u001b[0;34m\u001b[0m\u001b[0m\n\u001b[0m",
      "\u001b[0;32m/var/folders/mv/gvc101b94zz4pyyn_xy8m8tm0000gn/T/ipykernel_34142/72201819.py\u001b[0m in \u001b[0;36mfibonacci\u001b[0;34m(n)\u001b[0m\n\u001b[1;32m      6\u001b[0m         \u001b[0;32mreturn\u001b[0m \u001b[0mn\u001b[0m\u001b[0;34m\u001b[0m\u001b[0;34m\u001b[0m\u001b[0m\n\u001b[1;32m      7\u001b[0m     \u001b[0;32melse\u001b[0m\u001b[0;34m:\u001b[0m\u001b[0;34m\u001b[0m\u001b[0;34m\u001b[0m\u001b[0m\n\u001b[0;32m----> 8\u001b[0;31m         \u001b[0;32mreturn\u001b[0m\u001b[0;34m(\u001b[0m\u001b[0mfibonacci\u001b[0m\u001b[0;34m(\u001b[0m\u001b[0mn\u001b[0m\u001b[0;34m-\u001b[0m\u001b[0;36m1\u001b[0m\u001b[0;34m)\u001b[0m \u001b[0;34m+\u001b[0m \u001b[0mfibonacci\u001b[0m\u001b[0;34m(\u001b[0m\u001b[0mn\u001b[0m\u001b[0;34m-\u001b[0m\u001b[0;36m2\u001b[0m\u001b[0;34m)\u001b[0m\u001b[0;34m)\u001b[0m\u001b[0;34m\u001b[0m\u001b[0;34m\u001b[0m\u001b[0m\n\u001b[0m",
      "\u001b[0;32m/var/folders/mv/gvc101b94zz4pyyn_xy8m8tm0000gn/T/ipykernel_34142/72201819.py\u001b[0m in \u001b[0;36mfibonacci\u001b[0;34m(n)\u001b[0m\n\u001b[1;32m      6\u001b[0m         \u001b[0;32mreturn\u001b[0m \u001b[0mn\u001b[0m\u001b[0;34m\u001b[0m\u001b[0;34m\u001b[0m\u001b[0m\n\u001b[1;32m      7\u001b[0m     \u001b[0;32melse\u001b[0m\u001b[0;34m:\u001b[0m\u001b[0;34m\u001b[0m\u001b[0;34m\u001b[0m\u001b[0m\n\u001b[0;32m----> 8\u001b[0;31m         \u001b[0;32mreturn\u001b[0m\u001b[0;34m(\u001b[0m\u001b[0mfibonacci\u001b[0m\u001b[0;34m(\u001b[0m\u001b[0mn\u001b[0m\u001b[0;34m-\u001b[0m\u001b[0;36m1\u001b[0m\u001b[0;34m)\u001b[0m \u001b[0;34m+\u001b[0m \u001b[0mfibonacci\u001b[0m\u001b[0;34m(\u001b[0m\u001b[0mn\u001b[0m\u001b[0;34m-\u001b[0m\u001b[0;36m2\u001b[0m\u001b[0;34m)\u001b[0m\u001b[0;34m)\u001b[0m\u001b[0;34m\u001b[0m\u001b[0;34m\u001b[0m\u001b[0m\n\u001b[0m",
      "\u001b[0;32m/var/folders/mv/gvc101b94zz4pyyn_xy8m8tm0000gn/T/ipykernel_34142/72201819.py\u001b[0m in \u001b[0;36mfibonacci\u001b[0;34m(n)\u001b[0m\n\u001b[1;32m      6\u001b[0m         \u001b[0;32mreturn\u001b[0m \u001b[0mn\u001b[0m\u001b[0;34m\u001b[0m\u001b[0;34m\u001b[0m\u001b[0m\n\u001b[1;32m      7\u001b[0m     \u001b[0;32melse\u001b[0m\u001b[0;34m:\u001b[0m\u001b[0;34m\u001b[0m\u001b[0;34m\u001b[0m\u001b[0m\n\u001b[0;32m----> 8\u001b[0;31m         \u001b[0;32mreturn\u001b[0m\u001b[0;34m(\u001b[0m\u001b[0mfibonacci\u001b[0m\u001b[0;34m(\u001b[0m\u001b[0mn\u001b[0m\u001b[0;34m-\u001b[0m\u001b[0;36m1\u001b[0m\u001b[0;34m)\u001b[0m \u001b[0;34m+\u001b[0m \u001b[0mfibonacci\u001b[0m\u001b[0;34m(\u001b[0m\u001b[0mn\u001b[0m\u001b[0;34m-\u001b[0m\u001b[0;36m2\u001b[0m\u001b[0;34m)\u001b[0m\u001b[0;34m)\u001b[0m\u001b[0;34m\u001b[0m\u001b[0;34m\u001b[0m\u001b[0m\n\u001b[0m",
      "\u001b[0;32m/var/folders/mv/gvc101b94zz4pyyn_xy8m8tm0000gn/T/ipykernel_34142/72201819.py\u001b[0m in \u001b[0;36mfibonacci\u001b[0;34m(n)\u001b[0m\n\u001b[1;32m      6\u001b[0m         \u001b[0;32mreturn\u001b[0m \u001b[0mn\u001b[0m\u001b[0;34m\u001b[0m\u001b[0;34m\u001b[0m\u001b[0m\n\u001b[1;32m      7\u001b[0m     \u001b[0;32melse\u001b[0m\u001b[0;34m:\u001b[0m\u001b[0;34m\u001b[0m\u001b[0;34m\u001b[0m\u001b[0m\n\u001b[0;32m----> 8\u001b[0;31m         \u001b[0;32mreturn\u001b[0m\u001b[0;34m(\u001b[0m\u001b[0mfibonacci\u001b[0m\u001b[0;34m(\u001b[0m\u001b[0mn\u001b[0m\u001b[0;34m-\u001b[0m\u001b[0;36m1\u001b[0m\u001b[0;34m)\u001b[0m \u001b[0;34m+\u001b[0m \u001b[0mfibonacci\u001b[0m\u001b[0;34m(\u001b[0m\u001b[0mn\u001b[0m\u001b[0;34m-\u001b[0m\u001b[0;36m2\u001b[0m\u001b[0;34m)\u001b[0m\u001b[0;34m)\u001b[0m\u001b[0;34m\u001b[0m\u001b[0;34m\u001b[0m\u001b[0m\n\u001b[0m",
      "\u001b[0;32m/var/folders/mv/gvc101b94zz4pyyn_xy8m8tm0000gn/T/ipykernel_34142/72201819.py\u001b[0m in \u001b[0;36mfibonacci\u001b[0;34m(n)\u001b[0m\n\u001b[1;32m      6\u001b[0m         \u001b[0;32mreturn\u001b[0m \u001b[0mn\u001b[0m\u001b[0;34m\u001b[0m\u001b[0;34m\u001b[0m\u001b[0m\n\u001b[1;32m      7\u001b[0m     \u001b[0;32melse\u001b[0m\u001b[0;34m:\u001b[0m\u001b[0;34m\u001b[0m\u001b[0;34m\u001b[0m\u001b[0m\n\u001b[0;32m----> 8\u001b[0;31m         \u001b[0;32mreturn\u001b[0m\u001b[0;34m(\u001b[0m\u001b[0mfibonacci\u001b[0m\u001b[0;34m(\u001b[0m\u001b[0mn\u001b[0m\u001b[0;34m-\u001b[0m\u001b[0;36m1\u001b[0m\u001b[0;34m)\u001b[0m \u001b[0;34m+\u001b[0m \u001b[0mfibonacci\u001b[0m\u001b[0;34m(\u001b[0m\u001b[0mn\u001b[0m\u001b[0;34m-\u001b[0m\u001b[0;36m2\u001b[0m\u001b[0;34m)\u001b[0m\u001b[0;34m)\u001b[0m\u001b[0;34m\u001b[0m\u001b[0;34m\u001b[0m\u001b[0m\n\u001b[0m",
      "\u001b[0;32m/var/folders/mv/gvc101b94zz4pyyn_xy8m8tm0000gn/T/ipykernel_34142/72201819.py\u001b[0m in \u001b[0;36mfibonacci\u001b[0;34m(n)\u001b[0m\n\u001b[1;32m      6\u001b[0m         \u001b[0;32mreturn\u001b[0m \u001b[0mn\u001b[0m\u001b[0;34m\u001b[0m\u001b[0;34m\u001b[0m\u001b[0m\n\u001b[1;32m      7\u001b[0m     \u001b[0;32melse\u001b[0m\u001b[0;34m:\u001b[0m\u001b[0;34m\u001b[0m\u001b[0;34m\u001b[0m\u001b[0m\n\u001b[0;32m----> 8\u001b[0;31m         \u001b[0;32mreturn\u001b[0m\u001b[0;34m(\u001b[0m\u001b[0mfibonacci\u001b[0m\u001b[0;34m(\u001b[0m\u001b[0mn\u001b[0m\u001b[0;34m-\u001b[0m\u001b[0;36m1\u001b[0m\u001b[0;34m)\u001b[0m \u001b[0;34m+\u001b[0m \u001b[0mfibonacci\u001b[0m\u001b[0;34m(\u001b[0m\u001b[0mn\u001b[0m\u001b[0;34m-\u001b[0m\u001b[0;36m2\u001b[0m\u001b[0;34m)\u001b[0m\u001b[0;34m)\u001b[0m\u001b[0;34m\u001b[0m\u001b[0;34m\u001b[0m\u001b[0m\n\u001b[0m",
      "\u001b[0;32m/var/folders/mv/gvc101b94zz4pyyn_xy8m8tm0000gn/T/ipykernel_34142/72201819.py\u001b[0m in \u001b[0;36mfibonacci\u001b[0;34m(n)\u001b[0m\n\u001b[1;32m      6\u001b[0m         \u001b[0;32mreturn\u001b[0m \u001b[0mn\u001b[0m\u001b[0;34m\u001b[0m\u001b[0;34m\u001b[0m\u001b[0m\n\u001b[1;32m      7\u001b[0m     \u001b[0;32melse\u001b[0m\u001b[0;34m:\u001b[0m\u001b[0;34m\u001b[0m\u001b[0;34m\u001b[0m\u001b[0m\n\u001b[0;32m----> 8\u001b[0;31m         \u001b[0;32mreturn\u001b[0m\u001b[0;34m(\u001b[0m\u001b[0mfibonacci\u001b[0m\u001b[0;34m(\u001b[0m\u001b[0mn\u001b[0m\u001b[0;34m-\u001b[0m\u001b[0;36m1\u001b[0m\u001b[0;34m)\u001b[0m \u001b[0;34m+\u001b[0m \u001b[0mfibonacci\u001b[0m\u001b[0;34m(\u001b[0m\u001b[0mn\u001b[0m\u001b[0;34m-\u001b[0m\u001b[0;36m2\u001b[0m\u001b[0;34m)\u001b[0m\u001b[0;34m)\u001b[0m\u001b[0;34m\u001b[0m\u001b[0;34m\u001b[0m\u001b[0m\n\u001b[0m",
      "\u001b[0;32m/var/folders/mv/gvc101b94zz4pyyn_xy8m8tm0000gn/T/ipykernel_34142/72201819.py\u001b[0m in \u001b[0;36mfibonacci\u001b[0;34m(n)\u001b[0m\n\u001b[1;32m      6\u001b[0m         \u001b[0;32mreturn\u001b[0m \u001b[0mn\u001b[0m\u001b[0;34m\u001b[0m\u001b[0;34m\u001b[0m\u001b[0m\n\u001b[1;32m      7\u001b[0m     \u001b[0;32melse\u001b[0m\u001b[0;34m:\u001b[0m\u001b[0;34m\u001b[0m\u001b[0;34m\u001b[0m\u001b[0m\n\u001b[0;32m----> 8\u001b[0;31m         \u001b[0;32mreturn\u001b[0m\u001b[0;34m(\u001b[0m\u001b[0mfibonacci\u001b[0m\u001b[0;34m(\u001b[0m\u001b[0mn\u001b[0m\u001b[0;34m-\u001b[0m\u001b[0;36m1\u001b[0m\u001b[0;34m)\u001b[0m \u001b[0;34m+\u001b[0m \u001b[0mfibonacci\u001b[0m\u001b[0;34m(\u001b[0m\u001b[0mn\u001b[0m\u001b[0;34m-\u001b[0m\u001b[0;36m2\u001b[0m\u001b[0;34m)\u001b[0m\u001b[0;34m)\u001b[0m\u001b[0;34m\u001b[0m\u001b[0;34m\u001b[0m\u001b[0m\n\u001b[0m",
      "\u001b[0;32m/var/folders/mv/gvc101b94zz4pyyn_xy8m8tm0000gn/T/ipykernel_34142/72201819.py\u001b[0m in \u001b[0;36mfibonacci\u001b[0;34m(n)\u001b[0m\n\u001b[1;32m      6\u001b[0m         \u001b[0;32mreturn\u001b[0m \u001b[0mn\u001b[0m\u001b[0;34m\u001b[0m\u001b[0;34m\u001b[0m\u001b[0m\n\u001b[1;32m      7\u001b[0m     \u001b[0;32melse\u001b[0m\u001b[0;34m:\u001b[0m\u001b[0;34m\u001b[0m\u001b[0;34m\u001b[0m\u001b[0m\n\u001b[0;32m----> 8\u001b[0;31m         \u001b[0;32mreturn\u001b[0m\u001b[0;34m(\u001b[0m\u001b[0mfibonacci\u001b[0m\u001b[0;34m(\u001b[0m\u001b[0mn\u001b[0m\u001b[0;34m-\u001b[0m\u001b[0;36m1\u001b[0m\u001b[0;34m)\u001b[0m \u001b[0;34m+\u001b[0m \u001b[0mfibonacci\u001b[0m\u001b[0;34m(\u001b[0m\u001b[0mn\u001b[0m\u001b[0;34m-\u001b[0m\u001b[0;36m2\u001b[0m\u001b[0;34m)\u001b[0m\u001b[0;34m)\u001b[0m\u001b[0;34m\u001b[0m\u001b[0;34m\u001b[0m\u001b[0m\n\u001b[0m",
      "\u001b[0;32m/var/folders/mv/gvc101b94zz4pyyn_xy8m8tm0000gn/T/ipykernel_34142/72201819.py\u001b[0m in \u001b[0;36mfibonacci\u001b[0;34m(n)\u001b[0m\n\u001b[1;32m      6\u001b[0m         \u001b[0;32mreturn\u001b[0m \u001b[0mn\u001b[0m\u001b[0;34m\u001b[0m\u001b[0;34m\u001b[0m\u001b[0m\n\u001b[1;32m      7\u001b[0m     \u001b[0;32melse\u001b[0m\u001b[0;34m:\u001b[0m\u001b[0;34m\u001b[0m\u001b[0;34m\u001b[0m\u001b[0m\n\u001b[0;32m----> 8\u001b[0;31m         \u001b[0;32mreturn\u001b[0m\u001b[0;34m(\u001b[0m\u001b[0mfibonacci\u001b[0m\u001b[0;34m(\u001b[0m\u001b[0mn\u001b[0m\u001b[0;34m-\u001b[0m\u001b[0;36m1\u001b[0m\u001b[0;34m)\u001b[0m \u001b[0;34m+\u001b[0m \u001b[0mfibonacci\u001b[0m\u001b[0;34m(\u001b[0m\u001b[0mn\u001b[0m\u001b[0;34m-\u001b[0m\u001b[0;36m2\u001b[0m\u001b[0;34m)\u001b[0m\u001b[0;34m)\u001b[0m\u001b[0;34m\u001b[0m\u001b[0;34m\u001b[0m\u001b[0m\n\u001b[0m",
      "\u001b[0;32m/var/folders/mv/gvc101b94zz4pyyn_xy8m8tm0000gn/T/ipykernel_34142/72201819.py\u001b[0m in \u001b[0;36mfibonacci\u001b[0;34m(n)\u001b[0m\n\u001b[1;32m      6\u001b[0m         \u001b[0;32mreturn\u001b[0m \u001b[0mn\u001b[0m\u001b[0;34m\u001b[0m\u001b[0;34m\u001b[0m\u001b[0m\n\u001b[1;32m      7\u001b[0m     \u001b[0;32melse\u001b[0m\u001b[0;34m:\u001b[0m\u001b[0;34m\u001b[0m\u001b[0;34m\u001b[0m\u001b[0m\n\u001b[0;32m----> 8\u001b[0;31m         \u001b[0;32mreturn\u001b[0m\u001b[0;34m(\u001b[0m\u001b[0mfibonacci\u001b[0m\u001b[0;34m(\u001b[0m\u001b[0mn\u001b[0m\u001b[0;34m-\u001b[0m\u001b[0;36m1\u001b[0m\u001b[0;34m)\u001b[0m \u001b[0;34m+\u001b[0m \u001b[0mfibonacci\u001b[0m\u001b[0;34m(\u001b[0m\u001b[0mn\u001b[0m\u001b[0;34m-\u001b[0m\u001b[0;36m2\u001b[0m\u001b[0;34m)\u001b[0m\u001b[0;34m)\u001b[0m\u001b[0;34m\u001b[0m\u001b[0;34m\u001b[0m\u001b[0m\n\u001b[0m",
      "\u001b[0;32m/var/folders/mv/gvc101b94zz4pyyn_xy8m8tm0000gn/T/ipykernel_34142/72201819.py\u001b[0m in \u001b[0;36mfibonacci\u001b[0;34m(n)\u001b[0m\n\u001b[1;32m      6\u001b[0m         \u001b[0;32mreturn\u001b[0m \u001b[0mn\u001b[0m\u001b[0;34m\u001b[0m\u001b[0;34m\u001b[0m\u001b[0m\n\u001b[1;32m      7\u001b[0m     \u001b[0;32melse\u001b[0m\u001b[0;34m:\u001b[0m\u001b[0;34m\u001b[0m\u001b[0;34m\u001b[0m\u001b[0m\n\u001b[0;32m----> 8\u001b[0;31m         \u001b[0;32mreturn\u001b[0m\u001b[0;34m(\u001b[0m\u001b[0mfibonacci\u001b[0m\u001b[0;34m(\u001b[0m\u001b[0mn\u001b[0m\u001b[0;34m-\u001b[0m\u001b[0;36m1\u001b[0m\u001b[0;34m)\u001b[0m \u001b[0;34m+\u001b[0m \u001b[0mfibonacci\u001b[0m\u001b[0;34m(\u001b[0m\u001b[0mn\u001b[0m\u001b[0;34m-\u001b[0m\u001b[0;36m2\u001b[0m\u001b[0;34m)\u001b[0m\u001b[0;34m)\u001b[0m\u001b[0;34m\u001b[0m\u001b[0;34m\u001b[0m\u001b[0m\n\u001b[0m",
      "\u001b[0;32m/var/folders/mv/gvc101b94zz4pyyn_xy8m8tm0000gn/T/ipykernel_34142/72201819.py\u001b[0m in \u001b[0;36mfibonacci\u001b[0;34m(n)\u001b[0m\n\u001b[1;32m      6\u001b[0m         \u001b[0;32mreturn\u001b[0m \u001b[0mn\u001b[0m\u001b[0;34m\u001b[0m\u001b[0;34m\u001b[0m\u001b[0m\n\u001b[1;32m      7\u001b[0m     \u001b[0;32melse\u001b[0m\u001b[0;34m:\u001b[0m\u001b[0;34m\u001b[0m\u001b[0;34m\u001b[0m\u001b[0m\n\u001b[0;32m----> 8\u001b[0;31m         \u001b[0;32mreturn\u001b[0m\u001b[0;34m(\u001b[0m\u001b[0mfibonacci\u001b[0m\u001b[0;34m(\u001b[0m\u001b[0mn\u001b[0m\u001b[0;34m-\u001b[0m\u001b[0;36m1\u001b[0m\u001b[0;34m)\u001b[0m \u001b[0;34m+\u001b[0m \u001b[0mfibonacci\u001b[0m\u001b[0;34m(\u001b[0m\u001b[0mn\u001b[0m\u001b[0;34m-\u001b[0m\u001b[0;36m2\u001b[0m\u001b[0;34m)\u001b[0m\u001b[0;34m)\u001b[0m\u001b[0;34m\u001b[0m\u001b[0;34m\u001b[0m\u001b[0m\n\u001b[0m",
      "\u001b[0;32m/var/folders/mv/gvc101b94zz4pyyn_xy8m8tm0000gn/T/ipykernel_34142/72201819.py\u001b[0m in \u001b[0;36mfibonacci\u001b[0;34m(n)\u001b[0m\n\u001b[1;32m      6\u001b[0m         \u001b[0;32mreturn\u001b[0m \u001b[0mn\u001b[0m\u001b[0;34m\u001b[0m\u001b[0;34m\u001b[0m\u001b[0m\n\u001b[1;32m      7\u001b[0m     \u001b[0;32melse\u001b[0m\u001b[0;34m:\u001b[0m\u001b[0;34m\u001b[0m\u001b[0;34m\u001b[0m\u001b[0m\n\u001b[0;32m----> 8\u001b[0;31m         \u001b[0;32mreturn\u001b[0m\u001b[0;34m(\u001b[0m\u001b[0mfibonacci\u001b[0m\u001b[0;34m(\u001b[0m\u001b[0mn\u001b[0m\u001b[0;34m-\u001b[0m\u001b[0;36m1\u001b[0m\u001b[0;34m)\u001b[0m \u001b[0;34m+\u001b[0m \u001b[0mfibonacci\u001b[0m\u001b[0;34m(\u001b[0m\u001b[0mn\u001b[0m\u001b[0;34m-\u001b[0m\u001b[0;36m2\u001b[0m\u001b[0;34m)\u001b[0m\u001b[0;34m)\u001b[0m\u001b[0;34m\u001b[0m\u001b[0;34m\u001b[0m\u001b[0m\n\u001b[0m",
      "\u001b[0;32m/var/folders/mv/gvc101b94zz4pyyn_xy8m8tm0000gn/T/ipykernel_34142/72201819.py\u001b[0m in \u001b[0;36mfibonacci\u001b[0;34m(n)\u001b[0m\n\u001b[1;32m      6\u001b[0m         \u001b[0;32mreturn\u001b[0m \u001b[0mn\u001b[0m\u001b[0;34m\u001b[0m\u001b[0;34m\u001b[0m\u001b[0m\n\u001b[1;32m      7\u001b[0m     \u001b[0;32melse\u001b[0m\u001b[0;34m:\u001b[0m\u001b[0;34m\u001b[0m\u001b[0;34m\u001b[0m\u001b[0m\n\u001b[0;32m----> 8\u001b[0;31m         \u001b[0;32mreturn\u001b[0m\u001b[0;34m(\u001b[0m\u001b[0mfibonacci\u001b[0m\u001b[0;34m(\u001b[0m\u001b[0mn\u001b[0m\u001b[0;34m-\u001b[0m\u001b[0;36m1\u001b[0m\u001b[0;34m)\u001b[0m \u001b[0;34m+\u001b[0m \u001b[0mfibonacci\u001b[0m\u001b[0;34m(\u001b[0m\u001b[0mn\u001b[0m\u001b[0;34m-\u001b[0m\u001b[0;36m2\u001b[0m\u001b[0;34m)\u001b[0m\u001b[0;34m)\u001b[0m\u001b[0;34m\u001b[0m\u001b[0;34m\u001b[0m\u001b[0m\n\u001b[0m",
      "\u001b[0;32m/var/folders/mv/gvc101b94zz4pyyn_xy8m8tm0000gn/T/ipykernel_34142/72201819.py\u001b[0m in \u001b[0;36mfibonacci\u001b[0;34m(n)\u001b[0m\n\u001b[1;32m      6\u001b[0m         \u001b[0;32mreturn\u001b[0m \u001b[0mn\u001b[0m\u001b[0;34m\u001b[0m\u001b[0;34m\u001b[0m\u001b[0m\n\u001b[1;32m      7\u001b[0m     \u001b[0;32melse\u001b[0m\u001b[0;34m:\u001b[0m\u001b[0;34m\u001b[0m\u001b[0;34m\u001b[0m\u001b[0m\n\u001b[0;32m----> 8\u001b[0;31m         \u001b[0;32mreturn\u001b[0m\u001b[0;34m(\u001b[0m\u001b[0mfibonacci\u001b[0m\u001b[0;34m(\u001b[0m\u001b[0mn\u001b[0m\u001b[0;34m-\u001b[0m\u001b[0;36m1\u001b[0m\u001b[0;34m)\u001b[0m \u001b[0;34m+\u001b[0m \u001b[0mfibonacci\u001b[0m\u001b[0;34m(\u001b[0m\u001b[0mn\u001b[0m\u001b[0;34m-\u001b[0m\u001b[0;36m2\u001b[0m\u001b[0;34m)\u001b[0m\u001b[0;34m)\u001b[0m\u001b[0;34m\u001b[0m\u001b[0;34m\u001b[0m\u001b[0m\n\u001b[0m",
      "\u001b[0;32m/var/folders/mv/gvc101b94zz4pyyn_xy8m8tm0000gn/T/ipykernel_34142/72201819.py\u001b[0m in \u001b[0;36mfibonacci\u001b[0;34m(n)\u001b[0m\n\u001b[1;32m      6\u001b[0m         \u001b[0;32mreturn\u001b[0m \u001b[0mn\u001b[0m\u001b[0;34m\u001b[0m\u001b[0;34m\u001b[0m\u001b[0m\n\u001b[1;32m      7\u001b[0m     \u001b[0;32melse\u001b[0m\u001b[0;34m:\u001b[0m\u001b[0;34m\u001b[0m\u001b[0;34m\u001b[0m\u001b[0m\n\u001b[0;32m----> 8\u001b[0;31m         \u001b[0;32mreturn\u001b[0m\u001b[0;34m(\u001b[0m\u001b[0mfibonacci\u001b[0m\u001b[0;34m(\u001b[0m\u001b[0mn\u001b[0m\u001b[0;34m-\u001b[0m\u001b[0;36m1\u001b[0m\u001b[0;34m)\u001b[0m \u001b[0;34m+\u001b[0m \u001b[0mfibonacci\u001b[0m\u001b[0;34m(\u001b[0m\u001b[0mn\u001b[0m\u001b[0;34m-\u001b[0m\u001b[0;36m2\u001b[0m\u001b[0;34m)\u001b[0m\u001b[0;34m)\u001b[0m\u001b[0;34m\u001b[0m\u001b[0;34m\u001b[0m\u001b[0m\n\u001b[0m",
      "\u001b[0;32m/var/folders/mv/gvc101b94zz4pyyn_xy8m8tm0000gn/T/ipykernel_34142/72201819.py\u001b[0m in \u001b[0;36mfibonacci\u001b[0;34m(n)\u001b[0m\n\u001b[1;32m      6\u001b[0m         \u001b[0;32mreturn\u001b[0m \u001b[0mn\u001b[0m\u001b[0;34m\u001b[0m\u001b[0;34m\u001b[0m\u001b[0m\n\u001b[1;32m      7\u001b[0m     \u001b[0;32melse\u001b[0m\u001b[0;34m:\u001b[0m\u001b[0;34m\u001b[0m\u001b[0;34m\u001b[0m\u001b[0m\n\u001b[0;32m----> 8\u001b[0;31m         \u001b[0;32mreturn\u001b[0m\u001b[0;34m(\u001b[0m\u001b[0mfibonacci\u001b[0m\u001b[0;34m(\u001b[0m\u001b[0mn\u001b[0m\u001b[0;34m-\u001b[0m\u001b[0;36m1\u001b[0m\u001b[0;34m)\u001b[0m \u001b[0;34m+\u001b[0m \u001b[0mfibonacci\u001b[0m\u001b[0;34m(\u001b[0m\u001b[0mn\u001b[0m\u001b[0;34m-\u001b[0m\u001b[0;36m2\u001b[0m\u001b[0;34m)\u001b[0m\u001b[0;34m)\u001b[0m\u001b[0;34m\u001b[0m\u001b[0;34m\u001b[0m\u001b[0m\n\u001b[0m",
      "\u001b[0;31mKeyboardInterrupt\u001b[0m: "
     ]
    }
   ],
   "source": [
    "num_list=range(20,43,2)\n",
    "timings = len(num_list)\n",
    "for i in enumerate(num_list):      #returns both \"i\" and \"n\"\n",
    "\n",
    "    t1 = %timeit -n 1 -o -q fibonacci(num)\n",
    "    timings[i] = t1.average\n",
    "    print(num,timings[i])"
   ]
  }
 ],
 "metadata": {
  "interpreter": {
   "hash": "6f90b4276c590783c7a07511109bf4719a0a3e6c83f54b45385e5346de3d0c98"
  },
  "kernelspec": {
   "display_name": "Python 3.9.7 64-bit ('pymc3_env': conda)",
   "name": "python3"
  },
  "language_info": {
   "codemirror_mode": {
    "name": "ipython",
    "version": 3
   },
   "file_extension": ".py",
   "mimetype": "text/x-python",
   "name": "python",
   "nbconvert_exporter": "python",
   "pygments_lexer": "ipython3",
   "version": "3.9.7"
  },
  "orig_nbformat": 4
 },
 "nbformat": 4,
 "nbformat_minor": 2
}
